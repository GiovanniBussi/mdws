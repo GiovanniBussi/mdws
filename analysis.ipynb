{
 "cells": [
  {
   "cell_type": "markdown",
   "id": "f8dc0c37-276e-4279-b710-d3a6a2f1b6c5",
   "metadata": {},
   "source": [
    "# Analysis of Zenodo data"
   ]
  },
  {
   "cell_type": "markdown",
   "id": "ada220c2-c589-4aae-a4c0-c582ec7b09ac",
   "metadata": {},
   "source": [
    "## Import of packages"
   ]
  },
  {
   "cell_type": "code",
   "execution_count": 1,
   "id": "db6f72d5-d007-450d-9cb0-ec6fb0eba325",
   "metadata": {},
   "outputs": [],
   "source": [
    "import pandas as pd\n",
    "import matplotlib.pyplot as plt"
   ]
  },
  {
   "cell_type": "markdown",
   "id": "20f83d4a-9483-4360-a177-2e37dc8b8f1f",
   "metadata": {},
   "source": [
    "## Loading data"
   ]
  },
  {
   "cell_type": "code",
   "execution_count": 2,
   "id": "06369d5c-de38-470a-b654-ab34e33a3c71",
   "metadata": {},
   "outputs": [
    {
     "name": "stderr",
     "output_type": "stream",
     "text": [
      "C:\\Users\\bouar\\miniconda3\\envs\\jupyterlab\\lib\\site-packages\\IPython\\core\\interactiveshell.py:3441: DtypeWarning: Columns (4,7) have mixed types.Specify dtype option on import or set low_memory=False.\n",
      "  exec(code_obj, self.user_global_ns, self.user_ns)\n"
     ]
    }
   ],
   "source": [
    "datasets = pd.read_csv(\"datasets.tsv\", sep=\"\\t\")\n",
    "files = pd.read_csv(\"files.tsv\", sep=\"\\t\")"
   ]
  },
  {
   "cell_type": "code",
   "execution_count": 111,
   "id": "342f3750-152d-4160-89a9-fece33b26891",
   "metadata": {},
   "outputs": [],
   "source": [
    "tab = pd.merge(datasets, files, on=[\"dataset_id\", \"origin\"])"
   ]
  },
  {
   "cell_type": "code",
   "execution_count": 4,
   "id": "2c439446-9a53-4c16-91f6-21a5b649e5fd",
   "metadata": {},
   "outputs": [
    {
     "data": {
      "text/html": [
       "<div>\n",
       "<style scoped>\n",
       "    .dataframe tbody tr th:only-of-type {\n",
       "        vertical-align: middle;\n",
       "    }\n",
       "\n",
       "    .dataframe tbody tr th {\n",
       "        vertical-align: top;\n",
       "    }\n",
       "\n",
       "    .dataframe thead th {\n",
       "        text-align: right;\n",
       "    }\n",
       "</style>\n",
       "<table border=\"1\" class=\"dataframe\">\n",
       "  <thead>\n",
       "    <tr style=\"text-align: right;\">\n",
       "      <th></th>\n",
       "      <th>dataset_id</th>\n",
       "      <th>origin</th>\n",
       "      <th>doi</th>\n",
       "      <th>date_creation</th>\n",
       "      <th>date_last_modified</th>\n",
       "      <th>date_fetched</th>\n",
       "      <th>file_number</th>\n",
       "      <th>download_number</th>\n",
       "      <th>view_number</th>\n",
       "      <th>access_right</th>\n",
       "      <th>...</th>\n",
       "      <th>title</th>\n",
       "      <th>author</th>\n",
       "      <th>keywords</th>\n",
       "      <th>file_type</th>\n",
       "      <th>file_size</th>\n",
       "      <th>file_md5</th>\n",
       "      <th>from_zip_file</th>\n",
       "      <th>file_name</th>\n",
       "      <th>file_url</th>\n",
       "      <th>origin_zip_file</th>\n",
       "    </tr>\n",
       "  </thead>\n",
       "  <tbody>\n",
       "    <tr>\n",
       "      <th>0</th>\n",
       "      <td>3604282</td>\n",
       "      <td>zenodo</td>\n",
       "      <td>10.5281/zenodo.3604282</td>\n",
       "      <td>2020-01-10</td>\n",
       "      <td>2020-01-24</td>\n",
       "      <td>2021-12-29T18:55:41</td>\n",
       "      <td>22</td>\n",
       "      <td>101</td>\n",
       "      <td>8</td>\n",
       "      <td>open</td>\n",
       "      <td>...</td>\n",
       "      <td>Small membranes crowded with proteins at diffe...</td>\n",
       "      <td>Javanainen, Matti</td>\n",
       "      <td>NaN</td>\n",
       "      <td>cpt</td>\n",
       "      <td>4.094080e+05</td>\n",
       "      <td>8d199727fe137886cc582781ba64d604</td>\n",
       "      <td>False</td>\n",
       "      <td>M-4-400-300.cpt</td>\n",
       "      <td>https://zenodo.org/api/files/79746ec1-ad28-4e6...</td>\n",
       "      <td>None</td>\n",
       "    </tr>\n",
       "    <tr>\n",
       "      <th>1</th>\n",
       "      <td>3604282</td>\n",
       "      <td>zenodo</td>\n",
       "      <td>10.5281/zenodo.3604282</td>\n",
       "      <td>2020-01-10</td>\n",
       "      <td>2020-01-24</td>\n",
       "      <td>2021-12-29T18:55:41</td>\n",
       "      <td>22</td>\n",
       "      <td>101</td>\n",
       "      <td>8</td>\n",
       "      <td>open</td>\n",
       "      <td>...</td>\n",
       "      <td>Small membranes crowded with proteins at diffe...</td>\n",
       "      <td>Javanainen, Matti</td>\n",
       "      <td>NaN</td>\n",
       "      <td>edr</td>\n",
       "      <td>1.344147e+07</td>\n",
       "      <td>989fa719a1a9986b24b4b4dd18dfa8a5</td>\n",
       "      <td>False</td>\n",
       "      <td>M-4-400-300.edr</td>\n",
       "      <td>https://zenodo.org/api/files/79746ec1-ad28-4e6...</td>\n",
       "      <td>None</td>\n",
       "    </tr>\n",
       "    <tr>\n",
       "      <th>2</th>\n",
       "      <td>3604282</td>\n",
       "      <td>zenodo</td>\n",
       "      <td>10.5281/zenodo.3604282</td>\n",
       "      <td>2020-01-10</td>\n",
       "      <td>2020-01-24</td>\n",
       "      <td>2021-12-29T18:55:41</td>\n",
       "      <td>22</td>\n",
       "      <td>101</td>\n",
       "      <td>8</td>\n",
       "      <td>open</td>\n",
       "      <td>...</td>\n",
       "      <td>Small membranes crowded with proteins at diffe...</td>\n",
       "      <td>Javanainen, Matti</td>\n",
       "      <td>NaN</td>\n",
       "      <td>gro</td>\n",
       "      <td>1.171116e+06</td>\n",
       "      <td>4edcd5d462aca6374a3804835d796646</td>\n",
       "      <td>False</td>\n",
       "      <td>M-4-400-300.gro</td>\n",
       "      <td>https://zenodo.org/api/files/79746ec1-ad28-4e6...</td>\n",
       "      <td>None</td>\n",
       "    </tr>\n",
       "    <tr>\n",
       "      <th>3</th>\n",
       "      <td>3604282</td>\n",
       "      <td>zenodo</td>\n",
       "      <td>10.5281/zenodo.3604282</td>\n",
       "      <td>2020-01-10</td>\n",
       "      <td>2020-01-24</td>\n",
       "      <td>2021-12-29T18:55:41</td>\n",
       "      <td>22</td>\n",
       "      <td>101</td>\n",
       "      <td>8</td>\n",
       "      <td>open</td>\n",
       "      <td>...</td>\n",
       "      <td>Small membranes crowded with proteins at diffe...</td>\n",
       "      <td>Javanainen, Matti</td>\n",
       "      <td>NaN</td>\n",
       "      <td>tpr</td>\n",
       "      <td>8.403920e+05</td>\n",
       "      <td>c36a4260a857a38f73a78693a44b7828</td>\n",
       "      <td>False</td>\n",
       "      <td>M-4-400-300.tpr</td>\n",
       "      <td>https://zenodo.org/api/files/79746ec1-ad28-4e6...</td>\n",
       "      <td>None</td>\n",
       "    </tr>\n",
       "    <tr>\n",
       "      <th>4</th>\n",
       "      <td>3604282</td>\n",
       "      <td>zenodo</td>\n",
       "      <td>10.5281/zenodo.3604282</td>\n",
       "      <td>2020-01-10</td>\n",
       "      <td>2020-01-24</td>\n",
       "      <td>2021-12-29T18:55:41</td>\n",
       "      <td>22</td>\n",
       "      <td>101</td>\n",
       "      <td>8</td>\n",
       "      <td>open</td>\n",
       "      <td>...</td>\n",
       "      <td>Small membranes crowded with proteins at diffe...</td>\n",
       "      <td>Javanainen, Matti</td>\n",
       "      <td>NaN</td>\n",
       "      <td>xtc</td>\n",
       "      <td>1.177116e+09</td>\n",
       "      <td>4a5b38d1b65136d7d1538ac5e36ee436</td>\n",
       "      <td>False</td>\n",
       "      <td>M-4-400-300.xtc</td>\n",
       "      <td>https://zenodo.org/api/files/79746ec1-ad28-4e6...</td>\n",
       "      <td>None</td>\n",
       "    </tr>\n",
       "  </tbody>\n",
       "</table>\n",
       "<p>5 rows × 21 columns</p>\n",
       "</div>"
      ],
      "text/plain": [
       "   dataset_id  origin                     doi date_creation  \\\n",
       "0     3604282  zenodo  10.5281/zenodo.3604282    2020-01-10   \n",
       "1     3604282  zenodo  10.5281/zenodo.3604282    2020-01-10   \n",
       "2     3604282  zenodo  10.5281/zenodo.3604282    2020-01-10   \n",
       "3     3604282  zenodo  10.5281/zenodo.3604282    2020-01-10   \n",
       "4     3604282  zenodo  10.5281/zenodo.3604282    2020-01-10   \n",
       "\n",
       "  date_last_modified         date_fetched  file_number  download_number  \\\n",
       "0         2020-01-24  2021-12-29T18:55:41           22              101   \n",
       "1         2020-01-24  2021-12-29T18:55:41           22              101   \n",
       "2         2020-01-24  2021-12-29T18:55:41           22              101   \n",
       "3         2020-01-24  2021-12-29T18:55:41           22              101   \n",
       "4         2020-01-24  2021-12-29T18:55:41           22              101   \n",
       "\n",
       "   view_number access_right  ...  \\\n",
       "0            8         open  ...   \n",
       "1            8         open  ...   \n",
       "2            8         open  ...   \n",
       "3            8         open  ...   \n",
       "4            8         open  ...   \n",
       "\n",
       "                                               title             author  \\\n",
       "0  Small membranes crowded with proteins at diffe...  Javanainen, Matti   \n",
       "1  Small membranes crowded with proteins at diffe...  Javanainen, Matti   \n",
       "2  Small membranes crowded with proteins at diffe...  Javanainen, Matti   \n",
       "3  Small membranes crowded with proteins at diffe...  Javanainen, Matti   \n",
       "4  Small membranes crowded with proteins at diffe...  Javanainen, Matti   \n",
       "\n",
       "  keywords file_type     file_size                          file_md5  \\\n",
       "0      NaN       cpt  4.094080e+05  8d199727fe137886cc582781ba64d604   \n",
       "1      NaN       edr  1.344147e+07  989fa719a1a9986b24b4b4dd18dfa8a5   \n",
       "2      NaN       gro  1.171116e+06  4edcd5d462aca6374a3804835d796646   \n",
       "3      NaN       tpr  8.403920e+05  c36a4260a857a38f73a78693a44b7828   \n",
       "4      NaN       xtc  1.177116e+09  4a5b38d1b65136d7d1538ac5e36ee436   \n",
       "\n",
       "  from_zip_file        file_name  \\\n",
       "0         False  M-4-400-300.cpt   \n",
       "1         False  M-4-400-300.edr   \n",
       "2         False  M-4-400-300.gro   \n",
       "3         False  M-4-400-300.tpr   \n",
       "4         False  M-4-400-300.xtc   \n",
       "\n",
       "                                            file_url origin_zip_file  \n",
       "0  https://zenodo.org/api/files/79746ec1-ad28-4e6...            None  \n",
       "1  https://zenodo.org/api/files/79746ec1-ad28-4e6...            None  \n",
       "2  https://zenodo.org/api/files/79746ec1-ad28-4e6...            None  \n",
       "3  https://zenodo.org/api/files/79746ec1-ad28-4e6...            None  \n",
       "4  https://zenodo.org/api/files/79746ec1-ad28-4e6...            None  \n",
       "\n",
       "[5 rows x 21 columns]"
      ]
     },
     "execution_count": 4,
     "metadata": {},
     "output_type": "execute_result"
    }
   ],
   "source": [
    "tab.head()\n",
    "#print(len(tab))"
   ]
  },
  {
   "cell_type": "markdown",
   "id": "b67f0aef-63c3-40e2-9121-eb358c77e996",
   "metadata": {},
   "source": [
    "## New columns in the dataframe"
   ]
  },
  {
   "cell_type": "code",
   "execution_count": 93,
   "id": "2bfe34ac-7d76-4bfa-aeb4-05a0f427fc18",
   "metadata": {},
   "outputs": [],
   "source": [
    "ext_gromacs = [\"tpr\", \"gro\", \"mdp\", \"itp\", \"ndx\", \"top\", \"xtc\", \"trr\", \"edr\", \"cpt\"]\n",
    "ext_namd = [\"psf\", \"inp\", \"prm\", \"crd\", \"dcd\", \"coor\", \"vel\", \"xsc\"]\n",
    "ext_amber = [\"prmtop\", \"inpcrd\", \"mdcrd\", \"nc\", \"ncdf\", \"trj\"]"
   ]
  },
  {
   "cell_type": "code",
   "execution_count": 112,
   "id": "89042486-d34b-4828-8241-d641da5dab83",
   "metadata": {},
   "outputs": [],
   "source": [
    "engine_MD = []\n",
    "for ext in tab[\"file_type\"]:\n",
    "    if ext in ext_gromacs:\n",
    "        engine_MD.append(\"gromacs\")\n",
    "    elif ext in ext_namd:\n",
    "        engine_MD.append(\"namd\")\n",
    "    elif ext in ext_amber:\n",
    "        engine_MD.append(\"amber\")\n",
    "    else:\n",
    "        engine_MD.append(\"none\")\n",
    "\n",
    "#print(len(engine_MD))\n",
    "tab[\"engine_MD\"] = engine_MD"
   ]
  },
  {
   "cell_type": "code",
   "execution_count": 113,
   "id": "0aec5cca-5d3c-420e-9f69-ab32a176b79e",
   "metadata": {},
   "outputs": [],
   "source": [
    "years = []\n",
    "for date in tab[\"date_creation\"]:\n",
    "    years.append(int(date[:4]))\n",
    "\n",
    "#print(len(years))\n",
    "tab[\"years\"] = years"
   ]
  },
  {
   "cell_type": "markdown",
   "id": "056aab8e-8cf0-478f-bc26-149c1a8c6771",
   "metadata": {},
   "source": [
    "## Analysis"
   ]
  },
  {
   "cell_type": "markdown",
   "id": "1b121061-42af-48f6-b318-427f6bcf8389",
   "metadata": {},
   "source": [
    "### Number of extensions per MD engine"
   ]
  },
  {
   "cell_type": "code",
   "execution_count": 62,
   "id": "70a19797-0ffe-43ad-a019-c956da8a204c",
   "metadata": {},
   "outputs": [
    {
     "ename": "KeyError",
     "evalue": "'engine_MD'",
     "output_type": "error",
     "traceback": [
      "\u001b[1;31m---------------------------------------------------------------------------\u001b[0m",
      "\u001b[1;31mKeyError\u001b[0m                                  Traceback (most recent call last)",
      "\u001b[1;32m~\\miniconda3\\envs\\jupyterlab\\lib\\site-packages\\pandas\\core\\indexes\\base.py\u001b[0m in \u001b[0;36mget_loc\u001b[1;34m(self, key, method, tolerance)\u001b[0m\n\u001b[0;32m   3360\u001b[0m             \u001b[1;32mtry\u001b[0m\u001b[1;33m:\u001b[0m\u001b[1;33m\u001b[0m\u001b[1;33m\u001b[0m\u001b[0m\n\u001b[1;32m-> 3361\u001b[1;33m                 \u001b[1;32mreturn\u001b[0m \u001b[0mself\u001b[0m\u001b[1;33m.\u001b[0m\u001b[0m_engine\u001b[0m\u001b[1;33m.\u001b[0m\u001b[0mget_loc\u001b[0m\u001b[1;33m(\u001b[0m\u001b[0mcasted_key\u001b[0m\u001b[1;33m)\u001b[0m\u001b[1;33m\u001b[0m\u001b[1;33m\u001b[0m\u001b[0m\n\u001b[0m\u001b[0;32m   3362\u001b[0m             \u001b[1;32mexcept\u001b[0m \u001b[0mKeyError\u001b[0m \u001b[1;32mas\u001b[0m \u001b[0merr\u001b[0m\u001b[1;33m:\u001b[0m\u001b[1;33m\u001b[0m\u001b[1;33m\u001b[0m\u001b[0m\n",
      "\u001b[1;32m~\\miniconda3\\envs\\jupyterlab\\lib\\site-packages\\pandas\\_libs\\index.pyx\u001b[0m in \u001b[0;36mpandas._libs.index.IndexEngine.get_loc\u001b[1;34m()\u001b[0m\n",
      "\u001b[1;32m~\\miniconda3\\envs\\jupyterlab\\lib\\site-packages\\pandas\\_libs\\index.pyx\u001b[0m in \u001b[0;36mpandas._libs.index.IndexEngine.get_loc\u001b[1;34m()\u001b[0m\n",
      "\u001b[1;32mpandas\\_libs\\hashtable_class_helper.pxi\u001b[0m in \u001b[0;36mpandas._libs.hashtable.PyObjectHashTable.get_item\u001b[1;34m()\u001b[0m\n",
      "\u001b[1;32mpandas\\_libs\\hashtable_class_helper.pxi\u001b[0m in \u001b[0;36mpandas._libs.hashtable.PyObjectHashTable.get_item\u001b[1;34m()\u001b[0m\n",
      "\u001b[1;31mKeyError\u001b[0m: 'engine_MD'",
      "\nThe above exception was the direct cause of the following exception:\n",
      "\u001b[1;31mKeyError\u001b[0m                                  Traceback (most recent call last)",
      "\u001b[1;32m~\\AppData\\Local\\Temp/ipykernel_16148/914426613.py\u001b[0m in \u001b[0;36m<module>\u001b[1;34m\u001b[0m\n\u001b[1;32m----> 1\u001b[1;33m \u001b[0mtab\u001b[0m\u001b[1;33m[\u001b[0m\u001b[1;34m\"engine_MD\"\u001b[0m\u001b[1;33m]\u001b[0m\u001b[1;33m.\u001b[0m\u001b[0mvalue_counts\u001b[0m\u001b[1;33m(\u001b[0m\u001b[1;33m)\u001b[0m\u001b[1;33m.\u001b[0m\u001b[0mplot\u001b[0m\u001b[1;33m(\u001b[0m\u001b[0mkind\u001b[0m \u001b[1;33m=\u001b[0m \u001b[1;34m\"bar\"\u001b[0m\u001b[1;33m)\u001b[0m\u001b[1;33m\u001b[0m\u001b[1;33m\u001b[0m\u001b[0m\n\u001b[0m",
      "\u001b[1;32m~\\miniconda3\\envs\\jupyterlab\\lib\\site-packages\\pandas\\core\\frame.py\u001b[0m in \u001b[0;36m__getitem__\u001b[1;34m(self, key)\u001b[0m\n\u001b[0;32m   3456\u001b[0m             \u001b[1;32mif\u001b[0m \u001b[0mself\u001b[0m\u001b[1;33m.\u001b[0m\u001b[0mcolumns\u001b[0m\u001b[1;33m.\u001b[0m\u001b[0mnlevels\u001b[0m \u001b[1;33m>\u001b[0m \u001b[1;36m1\u001b[0m\u001b[1;33m:\u001b[0m\u001b[1;33m\u001b[0m\u001b[1;33m\u001b[0m\u001b[0m\n\u001b[0;32m   3457\u001b[0m                 \u001b[1;32mreturn\u001b[0m \u001b[0mself\u001b[0m\u001b[1;33m.\u001b[0m\u001b[0m_getitem_multilevel\u001b[0m\u001b[1;33m(\u001b[0m\u001b[0mkey\u001b[0m\u001b[1;33m)\u001b[0m\u001b[1;33m\u001b[0m\u001b[1;33m\u001b[0m\u001b[0m\n\u001b[1;32m-> 3458\u001b[1;33m             \u001b[0mindexer\u001b[0m \u001b[1;33m=\u001b[0m \u001b[0mself\u001b[0m\u001b[1;33m.\u001b[0m\u001b[0mcolumns\u001b[0m\u001b[1;33m.\u001b[0m\u001b[0mget_loc\u001b[0m\u001b[1;33m(\u001b[0m\u001b[0mkey\u001b[0m\u001b[1;33m)\u001b[0m\u001b[1;33m\u001b[0m\u001b[1;33m\u001b[0m\u001b[0m\n\u001b[0m\u001b[0;32m   3459\u001b[0m             \u001b[1;32mif\u001b[0m \u001b[0mis_integer\u001b[0m\u001b[1;33m(\u001b[0m\u001b[0mindexer\u001b[0m\u001b[1;33m)\u001b[0m\u001b[1;33m:\u001b[0m\u001b[1;33m\u001b[0m\u001b[1;33m\u001b[0m\u001b[0m\n\u001b[0;32m   3460\u001b[0m                 \u001b[0mindexer\u001b[0m \u001b[1;33m=\u001b[0m \u001b[1;33m[\u001b[0m\u001b[0mindexer\u001b[0m\u001b[1;33m]\u001b[0m\u001b[1;33m\u001b[0m\u001b[1;33m\u001b[0m\u001b[0m\n",
      "\u001b[1;32m~\\miniconda3\\envs\\jupyterlab\\lib\\site-packages\\pandas\\core\\indexes\\base.py\u001b[0m in \u001b[0;36mget_loc\u001b[1;34m(self, key, method, tolerance)\u001b[0m\n\u001b[0;32m   3361\u001b[0m                 \u001b[1;32mreturn\u001b[0m \u001b[0mself\u001b[0m\u001b[1;33m.\u001b[0m\u001b[0m_engine\u001b[0m\u001b[1;33m.\u001b[0m\u001b[0mget_loc\u001b[0m\u001b[1;33m(\u001b[0m\u001b[0mcasted_key\u001b[0m\u001b[1;33m)\u001b[0m\u001b[1;33m\u001b[0m\u001b[1;33m\u001b[0m\u001b[0m\n\u001b[0;32m   3362\u001b[0m             \u001b[1;32mexcept\u001b[0m \u001b[0mKeyError\u001b[0m \u001b[1;32mas\u001b[0m \u001b[0merr\u001b[0m\u001b[1;33m:\u001b[0m\u001b[1;33m\u001b[0m\u001b[1;33m\u001b[0m\u001b[0m\n\u001b[1;32m-> 3363\u001b[1;33m                 \u001b[1;32mraise\u001b[0m \u001b[0mKeyError\u001b[0m\u001b[1;33m(\u001b[0m\u001b[0mkey\u001b[0m\u001b[1;33m)\u001b[0m \u001b[1;32mfrom\u001b[0m \u001b[0merr\u001b[0m\u001b[1;33m\u001b[0m\u001b[1;33m\u001b[0m\u001b[0m\n\u001b[0m\u001b[0;32m   3364\u001b[0m \u001b[1;33m\u001b[0m\u001b[0m\n\u001b[0;32m   3365\u001b[0m         \u001b[1;32mif\u001b[0m \u001b[0mis_scalar\u001b[0m\u001b[1;33m(\u001b[0m\u001b[0mkey\u001b[0m\u001b[1;33m)\u001b[0m \u001b[1;32mand\u001b[0m \u001b[0misna\u001b[0m\u001b[1;33m(\u001b[0m\u001b[0mkey\u001b[0m\u001b[1;33m)\u001b[0m \u001b[1;32mand\u001b[0m \u001b[1;32mnot\u001b[0m \u001b[0mself\u001b[0m\u001b[1;33m.\u001b[0m\u001b[0mhasnans\u001b[0m\u001b[1;33m:\u001b[0m\u001b[1;33m\u001b[0m\u001b[1;33m\u001b[0m\u001b[0m\n",
      "\u001b[1;31mKeyError\u001b[0m: 'engine_MD'"
     ]
    }
   ],
   "source": [
    "tab[\"engine_MD\"].value_counts().plot(kind = \"bar\")"
   ]
  },
  {
   "cell_type": "markdown",
   "id": "dfb04443-2a86-4eeb-bdc4-41c25dcf4ed8",
   "metadata": {},
   "source": [
    "### Number of files per years"
   ]
  },
  {
   "cell_type": "code",
   "execution_count": 9,
   "id": "5f26f233-9e83-4a87-a260-6a4bfcc829b3",
   "metadata": {},
   "outputs": [
    {
     "data": {
      "text/plain": [
       "<AxesSubplot:>"
      ]
     },
     "execution_count": 9,
     "metadata": {},
     "output_type": "execute_result"
    },
    {
     "data": {
      "image/png": "[encoded data removed]",
      "text/plain": [
       "<Figure size 432x288 with 1 Axes>"
      ]
     },
     "metadata": {
      "needs_background": "light"
     },
     "output_type": "display_data"
    }
   ],
   "source": [
    "tab[\"years\"].value_counts().sort_index().plot(kind = \"bar\")"
   ]
  },
  {
   "cell_type": "markdown",
   "id": "774dd92e-15cf-4eb5-bf99-2aa716155081",
   "metadata": {},
   "source": [
    "### Number of files per years"
   ]
  },
  {
   "cell_type": "code",
   "execution_count": 26,
   "id": "450a132b-0775-4b02-b9a3-9d2bcb928609",
   "metadata": {},
   "outputs": [
    {
     "data": {
      "text/plain": [
       "<AxesSubplot:>"
      ]
     },
     "execution_count": 26,
     "metadata": {},
     "output_type": "execute_result"
    },
    {
     "data": {
      "image/png": "[encoded data removed]",
      "text/plain": [
       "<Figure size 432x288 with 1 Axes>"
      ]
     },
     "metadata": {
      "needs_background": "light"
     },
     "output_type": "display_data"
    }
   ],
   "source": [
    "tab[\"years\"].value_counts().sort_index().plot(kind = \"bar\")"
   ]
  },
  {
   "cell_type": "code",
   "execution_count": 27,
   "id": "c8ee572b-356c-442a-8c7d-4139d8759652",
   "metadata": {},
   "outputs": [
    {
     "data": {
      "text/plain": [
       "<AxesSubplot:xlabel='years'>"
      ]
     },
     "execution_count": 27,
     "metadata": {},
     "output_type": "execute_result"
    },
    {
     "data": {
      "image/png": "[encoded data removed]",
      "text/plain": [
       "<Figure size 432x288 with 1 Axes>"
      ]
     },
     "metadata": {
      "needs_background": "light"
     },
     "output_type": "display_data"
    }
   ],
   "source": [
    "tab.groupby(['years', 'engine_MD']).size().unstack().plot.bar()"
   ]
  },
  {
   "cell_type": "code",
   "execution_count": 32,
   "id": "caa8d05d-d4ec-47ac-a9ed-762796c64fe8",
   "metadata": {},
   "outputs": [
    {
     "data": {
      "text/plain": [
       "<AxesSubplot:xlabel='years'>"
      ]
     },
     "execution_count": 32,
     "metadata": {},
     "output_type": "execute_result"
    },
    {
     "data": {
      "image/png": "[encoded data removed]",
      "text/plain": [
       "<Figure size 432x288 with 1 Axes>"
      ]
     },
     "metadata": {
      "needs_background": "light"
     },
     "output_type": "display_data"
    }
   ],
   "source": [
    "data_engine_years = pd.DataFrame({\"years\":tab[\"years\"], \"engine_MD\":tab[\"engine_MD\"]})\n",
    "index = data_engine_years[data_engine_years[\"engine_MD\"] == \"none\"].index\n",
    "data_engine_years.drop(index, inplace=True)\n",
    "\n",
    "data_engine_years.groupby(['years', 'engine_MD']).size().unstack().plot.bar()"
   ]
  },
  {
   "cell_type": "markdown",
   "id": "e9cb3815-281a-419c-909c-6368c5d57c28",
   "metadata": {},
   "source": [
    "### Number of files per filetype"
   ]
  },
  {
   "cell_type": "markdown",
   "id": "13cd5b35-b77b-49bc-8550-9b155d855339",
   "metadata": {},
   "source": [
    "#### For Gromacs :"
   ]
  },
  {
   "cell_type": "code",
   "execution_count": 110,
   "id": "98243d7d-bf05-44b5-9bdb-ac158bcef5ac",
   "metadata": {},
   "outputs": [],
   "source": [
    "index = []\n",
    "for i in tab.index:\n",
    "    if tab.at[i, \"file_type\"] not in ext_gromacs:\n",
    "        index.append(i)"
   ]
  },
  {
   "cell_type": "code",
   "execution_count": 119,
   "id": "a9bbdbe1-f3ff-4be1-b0e1-8d9a4c48e288",
   "metadata": {},
   "outputs": [],
   "source": [
    "data_gromacs = tab.copy()\n",
    "data_gromacs = data_gromacs.drop(index)"
   ]
  },
  {
   "cell_type": "code",
   "execution_count": 121,
   "id": "f06045ad-9ee9-4fc3-8ff5-87aaf6fbbc99",
   "metadata": {},
   "outputs": [
    {
     "data": {
      "text/plain": [
       "<AxesSubplot:>"
      ]
     },
     "execution_count": 121,
     "metadata": {},
     "output_type": "execute_result"
    },
    {
     "data": {
      "image/png": "[encoded data removed]",
      "text/plain": [
       "<Figure size 432x288 with 1 Axes>"
      ]
     },
     "metadata": {
      "needs_background": "light"
     },
     "output_type": "display_data"
    }
   ],
   "source": [
    "data_gromacs[\"file_type\"].value_counts().plot(kind = \"bar\")"
   ]
  },
  {
   "cell_type": "markdown",
   "id": "2d05e106-5954-4b6c-9dcd-37ff98420646",
   "metadata": {},
   "source": [
    "#### For Namd :"
   ]
  },
  {
   "cell_type": "code",
   "execution_count": 124,
   "id": "010cd571-2f2d-48fd-b139-be6ef0e7b185",
   "metadata": {},
   "outputs": [
    {
     "data": {
      "text/plain": [
       "<AxesSubplot:>"
      ]
     },
     "execution_count": 124,
     "metadata": {},
     "output_type": "execute_result"
    },
    {
     "data": {
      "image/png": "[encoded data removed]",
      "text/plain": [
       "<Figure size 432x288 with 1 Axes>"
      ]
     },
     "metadata": {
      "needs_background": "light"
     },
     "output_type": "display_data"
    }
   ],
   "source": [
    "index = []\n",
    "for i in tab.index:\n",
    "    if tab.at[i, \"file_type\"] not in ext_namd:\n",
    "        index.append(i)\n",
    "        \n",
    "data_namd = tab.copy()\n",
    "data_namd = data_namd.drop(index)\n",
    "\n",
    "data_namd[\"file_type\"].value_counts().plot(kind = \"bar\")"
   ]
  },
  {
   "cell_type": "markdown",
   "id": "5cff5a08-1cf9-406e-bc1b-e54931e94437",
   "metadata": {},
   "source": [
    "#### For Amber :"
   ]
  },
  {
   "cell_type": "code",
   "execution_count": 125,
   "id": "0246263c-3034-40a8-99cf-ea32477778e5",
   "metadata": {},
   "outputs": [
    {
     "data": {
      "text/plain": [
       "<AxesSubplot:>"
      ]
     },
     "execution_count": 125,
     "metadata": {},
     "output_type": "execute_result"
    },
    {
     "data": {
      "image/png": "[encoded data removed]",
      "text/plain": [
       "<Figure size 432x288 with 1 Axes>"
      ]
     },
     "metadata": {
      "needs_background": "light"
     },
     "output_type": "display_data"
    }
   ],
   "source": [
    "index = []\n",
    "for i in tab.index:\n",
    "    if tab.at[i, \"file_type\"] not in ext_amber:\n",
    "        index.append(i)\n",
    "        \n",
    "data_amber = tab.copy()\n",
    "data_amber = data_amber.drop(index)\n",
    "\n",
    "data_amber[\"file_type\"].value_counts().plot(kind = \"bar\")"
   ]
  }
 ],
 "metadata": {
  "kernelspec": {
   "display_name": "Python 3 (ipykernel)",
   "language": "python",
   "name": "python3"
  },
  "language_info": {
   "codemirror_mode": {
    "name": "ipython",
    "version": 3
   },
   "file_extension": ".py",
   "mimetype": "text/x-python",
   "name": "python",
   "nbconvert_exporter": "python",
   "pygments_lexer": "ipython3",
   "version": "3.9.6"
  }
 },
 "nbformat": 4,
 "nbformat_minor": 5
}
