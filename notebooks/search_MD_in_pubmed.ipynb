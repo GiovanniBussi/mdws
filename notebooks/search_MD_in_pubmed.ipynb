{
 "cells": [
  {
   "cell_type": "markdown",
   "id": "d6a404d9-ab10-4b76-83f8-0359e519db49",
   "metadata": {},
   "source": [
    "# Search for Molecular Dynamics publications in PubMed\n",
    "\n",
    "Results can be verified [here](https://pubmed.ncbi.nlm.nih.gov/?term=%22molecular+dynamics%22&filter=years.2000-2022&sort=date)"
   ]
  },
  {
   "cell_type": "code",
   "execution_count": 1,
   "id": "eb166a0e-2239-40ac-aebd-42722ea2cb50",
   "metadata": {},
   "outputs": [],
   "source": [
    "from Bio import Entrez\n",
    "import matplotlib.pyplot as plt\n",
    "import pandas as pd"
   ]
  },
  {
   "cell_type": "markdown",
   "id": "bb021859-98b5-4c89-8109-76040a3c874a",
   "metadata": {},
   "source": [
    "Initiate Entrez module with proper e-mail address"
   ]
  },
  {
   "cell_type": "code",
   "execution_count": 2,
   "id": "35ff6c48-e620-4990-81fa-ed8630969d25",
   "metadata": {},
   "outputs": [],
   "source": [
    "Entrez.email = \"bob@email.com\""
   ]
  },
  {
   "cell_type": "markdown",
   "id": "6f09dd42-1279-4fd8-bb2d-4c258eaad44c",
   "metadata": {},
   "source": [
    "Define function to query Pubmed per year"
   ]
  },
  {
   "cell_type": "code",
   "execution_count": 3,
   "id": "3c3a9b1a-b036-4f26-b3f1-7b59ce5535e4",
   "metadata": {},
   "outputs": [],
   "source": [
    "def query_pubmed(term=\"\", year_start=2000, year_end=2021):\n",
    "    years = []\n",
    "    paper_count = []\n",
    "    for year in range(year_start, year_end+1):\n",
    "        query = (f'(\"{term}\") AND '\n",
    "                 f'(\"{year}/01/01\"[Date - Publication] : \"{year}/12/31\"[Date - Publication])'\n",
    "                )\n",
    "        esearch_res = Entrez.read(Entrez.esearch(db=\"pubmed\", term=query))\n",
    "        years.append(year)\n",
    "        paper_count.append(int(esearch_res[\"Count\"]))\n",
    "    return years, paper_count"
   ]
  },
  {
   "cell_type": "code",
   "execution_count": 4,
   "id": "59784436-9a67-410d-9fb5-779d82e27e1b",
   "metadata": {},
   "outputs": [],
   "source": [
    "years, papers = query_pubmed(term=\"molecular dynamics\", year_start=2000, year_end=2021)\n",
    "df_md = pd.DataFrame({\"years\": years, \"papers\": papers})\n",
    "df_md.to_csv(\"number_of_MD_papers_per_year.tsv\", sep=\"\\t\", index=False)"
   ]
  },
  {
   "cell_type": "code",
   "execution_count": 5,
   "id": "73a08751-08fe-430d-9612-d7b195f76e16",
   "metadata": {},
   "outputs": [
    {
     "data": {
      "image/png": "[encoded data removed]",
      "text/plain": [
       "<Figure size 432x288 with 1 Axes>"
      ]
     },
     "metadata": {
      "needs_background": "light"
     },
     "output_type": "display_data"
    }
   ],
   "source": [
    "fig, ax = plt.subplots()\n",
    "ax.bar(df_md[\"years\"], df_md[\"papers\"], color=\"C1\")\n",
    "ax.set_title(\"Number of MD publications per year\")\n",
    "ax.set_xlabel(\"year\")\n",
    "ax.set_ylabel(\"Number of publications\")\n",
    "fig.savefig(\"number_of_MD_papers_per_year.svg\")"
   ]
  },
  {
   "cell_type": "code",
   "execution_count": 6,
   "id": "77d5742c-17cf-43f6-b686-76aee1bc3e53",
   "metadata": {},
   "outputs": [],
   "source": [
    "years, papers = query_pubmed(term=\"gromacs\", year_start=2000, year_end=2021)\n",
    "df_gromacs = pd.DataFrame({\"years\": years, \"papers\": papers})\n",
    "df_gromacs.to_csv(\"number_of_gromacs_papers_per_year.tsv\", sep=\"\\t\", index=False)"
   ]
  },
  {
   "cell_type": "code",
   "execution_count": 7,
   "id": "9f844a5d-6171-43c6-b6b4-9aaaa3c03c4b",
   "metadata": {},
   "outputs": [
    {
     "data": {
      "image/png": "[encoded data removed]",
      "text/plain": [
       "<Figure size 432x288 with 1 Axes>"
      ]
     },
     "metadata": {
      "needs_background": "light"
     },
     "output_type": "display_data"
    }
   ],
   "source": [
    "fig, ax = plt.subplots()\n",
    "ax.bar(df_gromacs[\"years\"], df_gromacs[\"papers\"], color=\"C1\")\n",
    "ax.set_title(\"Number of Gromacs publications per year\")\n",
    "ax.set_xlabel(\"year\")\n",
    "ax.set_ylabel(\"Number of publications\")\n",
    "fig.savefig(\"number_of_gromacs_papers_per_year.svg\")"
   ]
  }
 ],
 "metadata": {
  "kernelspec": {
   "display_name": "Python 3 (ipykernel)",
   "language": "python",
   "name": "python3"
  },
  "language_info": {
   "codemirror_mode": {
    "name": "ipython",
    "version": 3
   },
   "file_extension": ".py",
   "mimetype": "text/x-python",
   "name": "python",
   "nbconvert_exporter": "python",
   "pygments_lexer": "ipython3",
   "version": "3.9.10"
  }
 },
 "nbformat": 4,
 "nbformat_minor": 5
}
