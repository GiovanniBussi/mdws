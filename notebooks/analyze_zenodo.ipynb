{
 "cells": [
  {
   "cell_type": "markdown",
   "id": "f8dc0c37-276e-4279-b710-d3a6a2f1b6c5",
   "metadata": {},
   "source": [
    "# Analysis of Zenodo data"
   ]
  },
  {
   "cell_type": "markdown",
   "id": "ada220c2-c589-4aae-a4c0-c582ec7b09ac",
   "metadata": {},
   "source": [
    "## Import packages"
   ]
  },
  {
   "cell_type": "code",
   "execution_count": 1,
   "id": "db6f72d5-d007-450d-9cb0-ec6fb0eba325",
   "metadata": {},
   "outputs": [],
   "source": [
    "import matplotlib.pyplot as plt\n",
    "import pandas as pd\n",
    "import yaml"
   ]
  },
  {
   "cell_type": "markdown",
   "id": "20f83d4a-9483-4360-a177-2e37dc8b8f1f",
   "metadata": {},
   "source": [
    "## Load data"
   ]
  },
  {
   "cell_type": "code",
   "execution_count": 2,
   "id": "06369d5c-de38-470a-b654-ab34e33a3c71",
   "metadata": {},
   "outputs": [
    {
     "name": "stdout",
     "output_type": "stream",
     "text": [
      "Found 817 datasets.\n",
      "Found 113502 files.\n"
     ]
    },
    {
     "name": "stderr",
     "output_type": "stream",
     "text": [
      "/tmp/ipykernel_2462799/1780778853.py:3: DtypeWarning: Columns (4,7) have mixed types. Specify dtype option on import or set low_memory=False.\n",
      "  files = pd.read_csv(\"../zenodo_files.tsv\", sep=\"\\t\")\n"
     ]
    }
   ],
   "source": [
    "datasets = pd.read_csv(\"../zenodo_datasets.tsv\", sep=\"\\t\")\n",
    "print(f\"Found {datasets.shape[0]} datasets.\")\n",
    "files = pd.read_csv(\"../zenodo_files.tsv\", sep=\"\\t\")\n",
    "print(f\"Found {files.shape[0]} files.\")"
   ]
  },
  {
   "cell_type": "markdown",
   "id": "b09e0179-c7e3-4016-a363-c02f2d7221e1",
   "metadata": {},
   "source": [
    "Merge both dataframes.\n",
    "One dataset can be associated to many files."
   ]
  },
  {
   "cell_type": "code",
   "execution_count": 3,
   "id": "342f3750-152d-4160-89a9-fece33b26891",
   "metadata": {},
   "outputs": [
    {
     "name": "stdout",
     "output_type": "stream",
     "text": [
      "Dataframe has 113502 entries.\n"
     ]
    }
   ],
   "source": [
    "tab = pd.merge(files, datasets, how=\"left\", on=[\"dataset_id\", \"origin\"], validate=\"many_to_one\")\n",
    "print(f\"Dataframe has {tab.shape[0]} entries.\")"
   ]
  },
  {
   "cell_type": "markdown",
   "id": "b67f0aef-63c3-40e2-9121-eb358c77e996",
   "metadata": {},
   "source": [
    "## Read query parameters"
   ]
  },
  {
   "cell_type": "code",
   "execution_count": 4,
   "id": "36b8f59f-5c04-48df-b6d2-3ff00d198aab",
   "metadata": {},
   "outputs": [],
   "source": [
    "def read_query_file(filename):\n",
    "    \"\"\"File query.yml parser.\n",
    "\n",
    "    This function parses the query file.\n",
    "\n",
    "    Parameters\n",
    "    ----------\n",
    "    filename : str\n",
    "        Filename for query parameters.\n",
    "    \n",
    "    Returns\n",
    "    -------\n",
    "    file_types : dict\n",
    "        Dictionary with type, engine, keywords to use and category\n",
    "    \"\"\"\n",
    "    with open(filename, \"r\") as param_file:\n",
    "        data_loaded = yaml.safe_load(param_file)\n",
    "    file_types = data_loaded[\"file_types\"]\n",
    "    return file_types"
   ]
  },
  {
   "cell_type": "code",
   "execution_count": 5,
   "id": "bc836189-67f9-407f-939c-593bc7508d38",
   "metadata": {},
   "outputs": [],
   "source": [
    "dico_file_types = read_query_file(\"../query.yml\")\n",
    "\n",
    "ext_gromacs = []\n",
    "ext_namd = []\n",
    "ext_amber = []\n",
    "\n",
    "list_coordinate = []\n",
    "list_trajectory = []\n",
    "list_topology = []\n",
    "\n",
    "for dico in dico_file_types:\n",
    "    if dico[\"engine\"] == \"gromacs\":\n",
    "        ext_gromacs.append(dico[\"type\"])\n",
    "    elif dico[\"engine\"] == \"namd\":\n",
    "        ext_namd.append(dico[\"type\"])\n",
    "    elif dico[\"engine\"] == \"amber\":\n",
    "        ext_amber.append(dico[\"type\"])\n",
    "    \n",
    "    if dico[\"category\"] == \"coordinate\":\n",
    "        list_coordinate.append(dico[\"type\"])\n",
    "    elif dico[\"category\"] == \"topology\":\n",
    "        list_topology.append(dico[\"type\"])\n",
    "    elif dico[\"category\"] == \"trajectory\":\n",
    "        list_trajectory.append(dico[\"type\"])\n",
    "\n",
    "ext_all = ext_gromacs + ext_namd + ext_amber\n",
    "        \n",
    "# The filetype \"top\" is included in both Gromacs and Amber. \n",
    "# And, the filetype \"prm\" is included in Namd and Amber.\n",
    "# But, to simplify the analyses, I consider that \"top\" is only a filetype of Gromacs and prm a filetype of Namd."
   ]
  },
  {
   "cell_type": "markdown",
   "id": "06798927-65a8-4278-b10b-8906be4883b1",
   "metadata": {},
   "source": [
    "## Compute number of keywords for each dataset"
   ]
  },
  {
   "cell_type": "code",
   "execution_count": 6,
   "id": "296af1fb-a7f6-4a78-92c4-c489861200df",
   "metadata": {},
   "outputs": [
    {
     "name": "stdout",
     "output_type": "stream",
     "text": [
      "Average number of keywords per dataset: 2.36\n"
     ]
    }
   ],
   "source": [
    "def count_keywords(keywords):\n",
    "    \"\"\"Count number of keywords.\n",
    "    \n",
    "    Keywords are separated by ; or ,\n",
    "    \n",
    "    Parameters\n",
    "    ----------\n",
    "    keywords : str\n",
    "        Keywords.\n",
    "    \n",
    "    Returns\n",
    "    -------\n",
    "    int\n",
    "        Number of keywords.\n",
    "    \"\"\"\n",
    "    keywords = str(keywords)\n",
    "    if keywords and keywords not in [\"None\", \"nan\"]:\n",
    "        keywords_lst = keywords.replace(\",\", \";\").split(\";\")\n",
    "        return len(keywords_lst)\n",
    "    else:\n",
    "        return 0\n",
    "\n",
    "datasets[\"keywords_nb\"] = datasets[\"keywords\"].apply(count_keywords)\n",
    "datasets[\"keywords_nb\"].value_counts()\n",
    "print(f\"Average number of keywords per dataset: {datasets['keywords_nb'].mean():.2f}\")"
   ]
  },
  {
   "cell_type": "markdown",
   "id": "43324d15-85a8-4b96-8d5a-706a6068884c",
   "metadata": {},
   "source": [
    "## Define MD engine per file"
   ]
  },
  {
   "cell_type": "code",
   "execution_count": 7,
   "id": "fc7e6a40-7825-4b62-aabb-e59a744a4597",
   "metadata": {},
   "outputs": [
    {
     "data": {
      "text/plain": [
       "none       62206\n",
       "gromacs    42092\n",
       "amber       5157\n",
       "namd        4047\n",
       "Name: engine_MD, dtype: int64"
      ]
     },
     "execution_count": 7,
     "metadata": {},
     "output_type": "execute_result"
    }
   ],
   "source": [
    "def define_md_engine(file_type):\n",
    "    \"\"\"Define MD engine based on file type.\n",
    "    \n",
    "    Parameters\n",
    "    ----------\n",
    "    file_type : str\n",
    "        File extension.\n",
    "    \n",
    "    Returns\n",
    "    -------\n",
    "    str\n",
    "        Name of MD engine.\n",
    "    \"\"\"\n",
    "    if file_type in ext_gromacs:\n",
    "        return \"gromacs\"\n",
    "    elif file_type in ext_namd:\n",
    "        return \"namd\"\n",
    "    elif file_type in ext_amber:\n",
    "        return \"amber\"\n",
    "    else:\n",
    "        return \"none\"\n",
    "\n",
    "tab[\"engine_MD\"] = tab[\"file_type\"].apply(define_md_engine)\n",
    "tab[\"engine_MD\"].value_counts()"
   ]
  },
  {
   "cell_type": "markdown",
   "id": "6f6405b8-89e7-4b3c-9964-0868fd363a44",
   "metadata": {},
   "source": [
    "## Define file category"
   ]
  },
  {
   "cell_type": "code",
   "execution_count": 8,
   "id": "cbf52223-c4aa-4149-8e11-3c102e80e458",
   "metadata": {},
   "outputs": [
    {
     "data": {
      "text/plain": [
       "none          62206\n",
       "trajectory    27339\n",
       "topology      12350\n",
       "coordinate    11607\n",
       "Name: category, dtype: int64"
      ]
     },
     "execution_count": 8,
     "metadata": {},
     "output_type": "execute_result"
    }
   ],
   "source": [
    "def define_file_category(file_type):\n",
    "    \"\"\"Define file category based on file type.\n",
    "    \n",
    "    Parameters\n",
    "    ----------\n",
    "    file_type : str\n",
    "        File extension.\n",
    "    \n",
    "    Returns\n",
    "    -------\n",
    "    str\n",
    "        Category.\n",
    "    \"\"\"\n",
    "    if file_type in list_coordinate:\n",
    "        return \"coordinate\"\n",
    "    elif file_type in list_topology:\n",
    "        return \"topology\"\n",
    "    elif file_type in list_trajectory:\n",
    "        return \"trajectory\"\n",
    "    else:\n",
    "        return \"none\"\n",
    "\n",
    "tab[\"category\"] = tab[\"file_type\"].apply(define_file_category)\n",
    "tab[\"category\"].value_counts()"
   ]
  },
  {
   "cell_type": "markdown",
   "id": "01b1982a-1d19-4392-88ec-fc004514bcec",
   "metadata": {},
   "source": [
    "## Extract year from date"
   ]
  },
  {
   "cell_type": "code",
   "execution_count": 9,
   "id": "9f08eb39-675b-4075-9bb4-f82344ebe384",
   "metadata": {},
   "outputs": [],
   "source": [
    "tab[\"years\"] = tab[\"date_creation\"].apply(lambda x: int(x[:4]))\n",
    "datasets[\"years\"] = datasets[\"date_creation\"].apply(lambda x: int(x[:4]))"
   ]
  },
  {
   "cell_type": "markdown",
   "id": "b8f74822-9325-47c1-9450-990cd809ef00",
   "metadata": {},
   "source": [
    "## Available mdp and gro files to download"
   ]
  },
  {
   "cell_type": "code",
   "execution_count": 10,
   "id": "b2760769-9677-4956-909b-40755218c797",
   "metadata": {},
   "outputs": [
    {
     "data": {
      "text/plain": [
       "480"
      ]
     },
     "execution_count": 10,
     "metadata": {},
     "output_type": "execute_result"
    }
   ],
   "source": [
    "(tab\n",
    "    .query(\"from_zip_file == False\")\n",
    "    .query(\"file_type in ['mdp', 'gro']\")\n",
    "    .groupby(\"dataset_id\")\n",
    "    .size()\n",
    "    .shape[0] # total number of datasets to download data from\n",
    ")"
   ]
  },
  {
   "cell_type": "markdown",
   "id": "57d88b4d-e4e7-4420-9a42-af3213ad689e",
   "metadata": {},
   "source": [
    "## Remove zip files\n",
    "\n",
    "We remove zip files but not their content."
   ]
  },
  {
   "cell_type": "code",
   "execution_count": 11,
   "id": "83ff0ff7-42a0-419d-9bb3-2961f6994ee5",
   "metadata": {},
   "outputs": [
    {
     "name": "stdout",
     "output_type": "stream",
     "text": [
      "Remove 1183 zip files.\n"
     ]
    }
   ],
   "source": [
    "files_nb_before = tab.shape[0]\n",
    "tab = tab[tab[\"file_type\"] != \"zip\"]\n",
    "print(f\"Remove {files_nb_before - tab.shape[0]} zip files.\")"
   ]
  },
  {
   "cell_type": "markdown",
   "id": "ccf3741f-f843-46f4-881b-e3a8cd351d0e",
   "metadata": {},
   "source": [
    "## Total size of all files\n",
    "\n",
    "- in TB\n",
    "- zip files excluded "
   ]
  },
  {
   "cell_type": "code",
   "execution_count": 12,
   "id": "26a09283-6473-4b13-a0d4-bc11b378d7c4",
   "metadata": {},
   "outputs": [
    {
     "name": "stdout",
     "output_type": "stream",
     "text": [
      "Total file size: 8.6 TB\n"
     ]
    }
   ],
   "source": [
    "print(f\"Total file size: {tab['file_size'].sum()/10**12:.1f} TB\")"
   ]
  },
  {
   "cell_type": "markdown",
   "id": "bcb23400-bbe3-4afb-8904-273a8e8374c7",
   "metadata": {},
   "source": [
    "## Average number of files per dataset"
   ]
  },
  {
   "cell_type": "code",
   "execution_count": 13,
   "id": "4a71c079-c421-4bf2-9a58-9138eca212a9",
   "metadata": {},
   "outputs": [
    {
     "name": "stdout",
     "output_type": "stream",
     "text": [
      "A dataset contains on average 137 files.\n"
     ]
    }
   ],
   "source": [
    "print(f\"A dataset contains on average {tab.groupby(['dataset_id'])['file_md5'].size().mean():.0f} files.\")"
   ]
  },
  {
   "cell_type": "markdown",
   "id": "056aab8e-8cf0-478f-bc26-149c1a8c6771",
   "metadata": {},
   "source": [
    "## Analysis"
   ]
  },
  {
   "cell_type": "markdown",
   "id": "1b121061-42af-48f6-b318-427f6bcf8389",
   "metadata": {},
   "source": [
    "### Number of files per MD engine"
   ]
  },
  {
   "cell_type": "code",
   "execution_count": 14,
   "id": "70a19797-0ffe-43ad-a019-c956da8a204c",
   "metadata": {},
   "outputs": [
    {
     "data": {
      "text/plain": [
       "Text(0, 0.5, 'Number of files')"
      ]
     },
     "execution_count": 14,
     "metadata": {},
     "output_type": "execute_result"
    },
    {
     "data": {
      "image/png": "[encoded data removed]",
      "text/plain": [
       "<Figure size 432x288 with 1 Axes>"
      ]
     },
     "metadata": {
      "needs_background": "light"
     },
     "output_type": "display_data"
    }
   ],
   "source": [
    "tab[\"engine_MD\"].value_counts().plot(kind=\"bar\")\n",
    "plt.xlabel(\"MD engine\")\n",
    "plt.ylabel(\"Number of files\")\n",
    "# plt.savefig(\"Number_of_extensions_per_MDengine.png\")"
   ]
  },
  {
   "cell_type": "code",
   "execution_count": 15,
   "id": "b63a0e82-882e-4498-bc0f-daf47369e6e8",
   "metadata": {},
   "outputs": [
    {
     "data": {
      "text/plain": [
       "Text(0, 0.5, 'Number of files')"
      ]
     },
     "execution_count": 15,
     "metadata": {},
     "output_type": "execute_result"
    },
    {
     "data": {
      "image/png": "[encoded data removed]",
      "text/plain": [
       "<Figure size 432x288 with 1 Axes>"
      ]
     },
     "metadata": {
      "needs_background": "light"
     },
     "output_type": "display_data"
    }
   ],
   "source": [
    "tab.groupby(\"engine_MD\")[\"category\"].value_counts().unstack().plot.bar(stacked=True)\n",
    "plt.xlabel(\"MD engine\")\n",
    "plt.ylabel(\"Number of files\")\n",
    "# plt.savefig(\"Number_of_extensions_per_MDengine_with_categories.png\")"
   ]
  },
  {
   "cell_type": "markdown",
   "id": "683c2cf4-2410-4232-8f3a-2967b6621d85",
   "metadata": {},
   "source": [
    "#### Number of datasets per years"
   ]
  },
  {
   "cell_type": "code",
   "execution_count": 16,
   "id": "91fc0a13-d37a-481d-b88b-1b2d5a6c06f3",
   "metadata": {},
   "outputs": [
    {
     "data": {
      "text/plain": [
       "Text(0, 0.5, 'Number of datasets')"
      ]
     },
     "execution_count": 16,
     "metadata": {},
     "output_type": "execute_result"
    },
    {
     "data": {
      "image/png": "[encoded data removed]",
      "text/plain": [
       "<Figure size 432x288 with 1 Axes>"
      ]
     },
     "metadata": {
      "needs_background": "light"
     },
     "output_type": "display_data"
    }
   ],
   "source": [
    "datasets.groupby([\"years\"])[\"dataset_id\"].size().plot(kind=\"bar\")\n",
    "plt.xlabel(\"Years\")\n",
    "plt.ylabel(\"Number of datasets\")\n",
    "# plt.savefig(\"Number_of_datasets_per_years.png\")"
   ]
  },
  {
   "cell_type": "markdown",
   "id": "dfb04443-2a86-4eeb-bdc4-41c25dcf4ed8",
   "metadata": {},
   "source": [
    "### Number of files per years"
   ]
  },
  {
   "cell_type": "code",
   "execution_count": 17,
   "id": "5f26f233-9e83-4a87-a260-6a4bfcc829b3",
   "metadata": {},
   "outputs": [
    {
     "data": {
      "text/plain": [
       "Text(0, 0.5, 'Number of files')"
      ]
     },
     "execution_count": 17,
     "metadata": {},
     "output_type": "execute_result"
    },
    {
     "data": {
      "image/png": "[encoded data removed]",
      "text/plain": [
       "<Figure size 432x288 with 1 Axes>"
      ]
     },
     "metadata": {
      "needs_background": "light"
     },
     "output_type": "display_data"
    }
   ],
   "source": [
    "tab[\"years\"].value_counts().sort_index().plot(kind=\"bar\")\n",
    "plt.xlabel(\"Years\")\n",
    "plt.ylabel(\"Number of files\")\n",
    "# plt.savefig(\"Number_of_files_per_years.png\")"
   ]
  },
  {
   "cell_type": "code",
   "execution_count": 18,
   "id": "c8ee572b-356c-442a-8c7d-4139d8759652",
   "metadata": {},
   "outputs": [
    {
     "data": {
      "text/plain": [
       "<matplotlib.legend.Legend at 0x7ff0b68f9910>"
      ]
     },
     "execution_count": 18,
     "metadata": {},
     "output_type": "execute_result"
    },
    {
     "data": {
      "image/png": "[encoded data removed]",
      "text/plain": [
       "<Figure size 432x288 with 1 Axes>"
      ]
     },
     "metadata": {
      "needs_background": "light"
     },
     "output_type": "display_data"
    }
   ],
   "source": [
    "tab.groupby([\"years\", \"engine_MD\"]).size().unstack().plot(kind=\"bar\", stacked=True)\n",
    "plt.xlabel(\"Years\")\n",
    "plt.ylabel(\"Number of files\")\n",
    "plt.legend(title=\"MD engine\")\n",
    "# plt.savefig(\"Number_of_files_per_years_with_categories.png\")"
   ]
  },
  {
   "cell_type": "code",
   "execution_count": 19,
   "id": "caa8d05d-d4ec-47ac-a9ed-762796c64fe8",
   "metadata": {},
   "outputs": [
    {
     "data": {
      "text/plain": [
       "<matplotlib.legend.Legend at 0x7ff0b6518910>"
      ]
     },
     "execution_count": 19,
     "metadata": {},
     "output_type": "execute_result"
    },
    {
     "data": {
      "image/png": "[encoded data removed]",
      "text/plain": [
       "<Figure size 432x288 with 1 Axes>"
      ]
     },
     "metadata": {
      "needs_background": "light"
     },
     "output_type": "display_data"
    }
   ],
   "source": [
    "tab[tab[\"engine_MD\"] != \"none\"].groupby([\"years\", \"engine_MD\"]).size().unstack().plot(kind=\"bar\", stacked=True)\n",
    "plt.xlabel(\"Years\")\n",
    "plt.ylabel(\"Number of files\")\n",
    "plt.legend(title=\"MD engine\")\n",
    "# plt.savefig(\"Number_of_files_per_years_with_categories_without_none.png\")"
   ]
  },
  {
   "cell_type": "markdown",
   "id": "e9cb3815-281a-419c-909c-6368c5d57c28",
   "metadata": {},
   "source": [
    "### Number of files per filetype\n",
    "\n",
    "For files not associated to any MD engine."
   ]
  },
  {
   "cell_type": "code",
   "execution_count": 20,
   "id": "e984e183-d80a-41d3-af66-ed0c6c5346a1",
   "metadata": {},
   "outputs": [
    {
     "data": {
      "text/plain": [
       "Text(0, 0.5, 'Number of files')"
      ]
     },
     "execution_count": 20,
     "metadata": {},
     "output_type": "execute_result"
    },
    {
     "data": {
      "image/png": "[encoded data removed]",
      "text/plain": [
       "<Figure size 432x288 with 1 Axes>"
      ]
     },
     "metadata": {
      "needs_background": "light"
     },
     "output_type": "display_data"
    }
   ],
   "source": [
    "tab[tab[\"engine_MD\"] == \"none\"][\"file_type\"].value_counts().head(n=10).plot(kind=\"bar\")\n",
    "plt.xlabel(\"File type not associated to any MD engine\")\n",
    "plt.ylabel(\"Number of files\")\n",
    "# plt.savefig(\"Number_of_files_per_filetype_none.png\")"
   ]
  },
  {
   "cell_type": "markdown",
   "id": "13cd5b35-b77b-49bc-8550-9b155d855339",
   "metadata": {},
   "source": [
    "#### For Gromacs"
   ]
  },
  {
   "cell_type": "code",
   "execution_count": 21,
   "id": "f06045ad-9ee9-4fc3-8ff5-87aaf6fbbc99",
   "metadata": {},
   "outputs": [
    {
     "data": {
      "text/plain": [
       "Text(0, 0.5, 'Number of files')"
      ]
     },
     "execution_count": 21,
     "metadata": {},
     "output_type": "execute_result"
    },
    {
     "data": {
      "image/png": "[encoded data removed]",
      "text/plain": [
       "<Figure size 432x288 with 1 Axes>"
      ]
     },
     "metadata": {
      "needs_background": "light"
     },
     "output_type": "display_data"
    }
   ],
   "source": [
    "data_gromacs = tab[tab[\"file_type\"].isin(ext_gromacs)]\n",
    "data_gromacs[data_gromacs[\"engine_MD\"] != \"none\"].groupby(\"file_type\")[\"category\"].value_counts().unstack().plot.bar(stacked=True)\n",
    "plt.xlabel(\"File types for Gromacs\")\n",
    "plt.ylabel(\"Number of files\")\n",
    "# plt.savefig(\"Number_of_files_per_filetype_gromacs.png\")"
   ]
  },
  {
   "cell_type": "markdown",
   "id": "2d05e106-5954-4b6c-9dcd-37ff98420646",
   "metadata": {},
   "source": [
    "#### For Namd"
   ]
  },
  {
   "cell_type": "code",
   "execution_count": 22,
   "id": "010cd571-2f2d-48fd-b139-be6ef0e7b185",
   "metadata": {},
   "outputs": [
    {
     "data": {
      "text/plain": [
       "Text(0, 0.5, 'Number of files')"
      ]
     },
     "execution_count": 22,
     "metadata": {},
     "output_type": "execute_result"
    },
    {
     "data": {
      "image/png": "[encoded data removed]",
      "text/plain": [
       "<Figure size 432x288 with 1 Axes>"
      ]
     },
     "metadata": {
      "needs_background": "light"
     },
     "output_type": "display_data"
    }
   ],
   "source": [
    "data_namd = tab[tab[\"file_type\"].isin(ext_namd)]\n",
    "data_namd[data_namd[\"engine_MD\"] != \"none\"].groupby(\"file_type\")[\"category\"].value_counts().unstack().plot.bar(stacked=True)\n",
    "plt.xlabel(\"File type for NAMD\")\n",
    "plt.ylabel(\"Number of files\")\n",
    "# plt.savefig(\"Number_of_files_per_filetype_namd.png\")"
   ]
  },
  {
   "cell_type": "markdown",
   "id": "5cff5a08-1cf9-406e-bc1b-e54931e94437",
   "metadata": {},
   "source": [
    "#### For Amber"
   ]
  },
  {
   "cell_type": "code",
   "execution_count": 23,
   "id": "0246263c-3034-40a8-99cf-ea32477778e5",
   "metadata": {},
   "outputs": [
    {
     "data": {
      "text/plain": [
       "Text(0, 0.5, 'Number of files')"
      ]
     },
     "execution_count": 23,
     "metadata": {},
     "output_type": "execute_result"
    },
    {
     "data": {
      "image/png": "[encoded data removed]",
      "text/plain": [
       "<Figure size 432x288 with 1 Axes>"
      ]
     },
     "metadata": {
      "needs_background": "light"
     },
     "output_type": "display_data"
    }
   ],
   "source": [
    "data_amber = tab[tab[\"file_type\"].isin(ext_amber)]\n",
    "data_amber[data_amber[\"engine_MD\"] != \"none\"].groupby(\"file_type\")[\"category\"].value_counts().unstack().plot.bar(stacked=True)\n",
    "plt.xlabel(\"File type for Amber\")\n",
    "plt.ylabel(\"Number of files\")\n",
    "# plt.savefig(\"Number_of_files_per_filetype_amber.png\")"
   ]
  },
  {
   "cell_type": "markdown",
   "id": "5a0325a5-70cd-4d59-86c4-8ac307741194",
   "metadata": {},
   "source": [
    "### File size per year\n",
    "\n",
    "- in TB\n",
    "- In Zenodo, individual file size cannot go above 50 GB (see [FAQ](https://help.zenodo.org/))."
   ]
  },
  {
   "cell_type": "code",
   "execution_count": 24,
   "id": "d7e6f26a-7fdf-445b-9e5e-8dde566466f4",
   "metadata": {},
   "outputs": [
    {
     "data": {
      "text/plain": [
       "years\n",
       "2014    0.000740\n",
       "2015    0.156826\n",
       "2016    0.144266\n",
       "2017    1.216157\n",
       "2018    1.183853\n",
       "2019    1.338739\n",
       "2020    2.647297\n",
       "2021    1.932328\n",
       "2022    0.006122\n",
       "Name: file_size, dtype: float64"
      ]
     },
     "execution_count": 24,
     "metadata": {},
     "output_type": "execute_result"
    }
   ],
   "source": [
    "(tab.groupby([\"years\"])[\"file_size\"].sum()/10**12)"
   ]
  },
  {
   "cell_type": "code",
   "execution_count": 25,
   "id": "eb68e8c2-1864-4610-a5e9-a329ca507aa8",
   "metadata": {},
   "outputs": [
    {
     "data": {
      "text/plain": [
       "Text(0, 0.5, 'File size (in TB)')"
      ]
     },
     "execution_count": 25,
     "metadata": {},
     "output_type": "execute_result"
    },
    {
     "data": {
      "image/png": "[encoded data removed]",
      "text/plain": [
       "<Figure size 432x288 with 1 Axes>"
      ]
     },
     "metadata": {
      "needs_background": "light"
     },
     "output_type": "display_data"
    }
   ],
   "source": [
    "(tab.groupby([\"years\"])[\"file_size\"].sum()/10**12).plot(kind=\"bar\") \n",
    "plt.xlabel(\"Years\")\n",
    "plt.ylabel(\"File size (in TB)\")\n",
    "# plt.savefig(\"File_size_per_year.png\")"
   ]
  },
  {
   "cell_type": "markdown",
   "id": "c44e0040-9ba2-462b-9c96-5ff2036f4480",
   "metadata": {},
   "source": [
    "### File size per MD engine"
   ]
  },
  {
   "cell_type": "code",
   "execution_count": 26,
   "id": "32644538-e03d-428c-a560-51dba74c2e33",
   "metadata": {},
   "outputs": [
    {
     "data": {
      "text/plain": [
       "Text(0, 0.5, 'File size (in TB)')"
      ]
     },
     "execution_count": 26,
     "metadata": {},
     "output_type": "execute_result"
    },
    {
     "data": {
      "image/png": "[encoded data removed]",
      "text/plain": [
       "<Figure size 432x288 with 1 Axes>"
      ]
     },
     "metadata": {
      "needs_background": "light"
     },
     "output_type": "display_data"
    }
   ],
   "source": [
    "(tab.groupby([\"engine_MD\", \"category\"])[\"file_size\"].sum()/10**12).unstack(\"category\").plot(kind=\"bar\", stacked=True)\n",
    "plt.xlabel(\"MD engine\")\n",
    "plt.ylabel(\"File size (in TB)\")\n",
    "# plt.savefig(\"File_size_per_MDengine.png\")"
   ]
  },
  {
   "cell_type": "code",
   "execution_count": 27,
   "id": "60cb54fb-6c16-4ee7-831c-dc0a01c97381",
   "metadata": {},
   "outputs": [
    {
     "data": {
      "text/plain": [
       "Text(0, 0.5, 'File size (in TB)')"
      ]
     },
     "execution_count": 27,
     "metadata": {},
     "output_type": "execute_result"
    },
    {
     "data": {
      "image/png": "[encoded data removed]",
      "text/plain": [
       "<Figure size 432x288 with 1 Axes>"
      ]
     },
     "metadata": {
      "needs_background": "light"
     },
     "output_type": "display_data"
    }
   ],
   "source": [
    "(tab.groupby([\"engine_MD\", \"category\"])[\"file_size\"].sum()/10**12).unstack(\"category\").plot(kind=\"bar\", stacked=True)\n",
    "plt.xlabel(\"MD engine\")\n",
    "plt.ylabel(\"File size (in TB)\")\n",
    "# plt.savefig(\"File_size_per_MDengine_with_categories.png\")"
   ]
  },
  {
   "cell_type": "markdown",
   "id": "d65b036d-3851-4790-a810-d336aa796989",
   "metadata": {},
   "source": [
    "### Comparison with figshare data"
   ]
  },
  {
   "cell_type": "markdown",
   "id": "9fac0ac1-293f-4cbe-a9ca-90dca74e0138",
   "metadata": {},
   "source": [
    "#### Load data"
   ]
  },
  {
   "cell_type": "code",
   "execution_count": 28,
   "id": "bb1f7c81-a27e-4f9f-a574-91d7bee7dc57",
   "metadata": {},
   "outputs": [
    {
     "name": "stdout",
     "output_type": "stream",
     "text": [
      "Found 1780 datasets.\n",
      "Found 4295 files.\n"
     ]
    }
   ],
   "source": [
    "datasets_f = pd.read_csv(\"../figshare_datasets.tsv\", sep=\"\\t\")\n",
    "print(f\"Found {datasets_f.shape[0]} datasets.\")\n",
    "files_f = pd.read_csv(\"../figshare_files.tsv\", sep=\"\\t\")\n",
    "print(f\"Found {files_f.shape[0]} files.\")"
   ]
  },
  {
   "cell_type": "markdown",
   "id": "67e820aa-de31-4876-8560-c5cd3dbde23d",
   "metadata": {},
   "source": [
    "Merge both dataframes. One dataset can be associated to many files."
   ]
  },
  {
   "cell_type": "code",
   "execution_count": 29,
   "id": "c5b63eaa-0168-40f2-a3e6-402a356b9ea5",
   "metadata": {},
   "outputs": [
    {
     "name": "stdout",
     "output_type": "stream",
     "text": [
      "Found 4295 rows.\n"
     ]
    }
   ],
   "source": [
    "tab_f = pd.merge(files_f, datasets_f, how=\"left\", on=[\"dataset_id\", \"origin\"], validate=\"many_to_one\")\n",
    "print(f\"Found {tab_f.shape[0]} rows.\")"
   ]
  },
  {
   "cell_type": "markdown",
   "id": "8ff36f74-9f2a-4dfc-a26e-ff04dcee5efa",
   "metadata": {},
   "source": [
    "#### Extract year from date"
   ]
  },
  {
   "cell_type": "code",
   "execution_count": 30,
   "id": "1f2dbddb-dd08-428b-b3de-9be073d4c7c7",
   "metadata": {},
   "outputs": [],
   "source": [
    "tab_f[\"years\"] = tab_f[\"date_creation\"].apply(lambda x: int(x[:4]))\n",
    "datasets_f[\"years\"] = datasets_f[\"date_creation\"].apply(lambda x: int(x[:4]))"
   ]
  },
  {
   "cell_type": "markdown",
   "id": "3e6844c3-6865-4048-8448-78fe8034510f",
   "metadata": {},
   "source": [
    "#### Concatenation of data"
   ]
  },
  {
   "cell_type": "code",
   "execution_count": 31,
   "id": "8eb84085-4992-4a4f-b579-e93138060121",
   "metadata": {},
   "outputs": [
    {
     "name": "stdout",
     "output_type": "stream",
     "text": [
      "Found 817 datasets.\n",
      "Found 1780 datasets.\n",
      "Found 2597 datasets.\n"
     ]
    }
   ],
   "source": [
    "tot = pd.concat([tab, tab_f])\n",
    "datasets_tot = pd.concat([datasets, datasets_f])\n",
    "print(f\"Found {datasets.shape[0]} datasets.\")\n",
    "print(f\"Found {datasets_f.shape[0]} datasets.\")\n",
    "print(f\"Found {datasets_tot.shape[0]} datasets.\")"
   ]
  },
  {
   "cell_type": "markdown",
   "id": "c90709e3-2a6b-40a7-a454-4c32955ca63d",
   "metadata": {},
   "source": [
    "#### Analysis"
   ]
  },
  {
   "cell_type": "markdown",
   "id": "daeb5bb6-9ebb-43bd-8f87-3b852fad3675",
   "metadata": {},
   "source": [
    "##### Number of datasets per years"
   ]
  },
  {
   "cell_type": "code",
   "execution_count": 32,
   "id": "07b6960b-1840-415a-8661-78b92ff89925",
   "metadata": {},
   "outputs": [
    {
     "data": {
      "text/plain": [
       "Text(0, 0.5, 'Number of datasets')"
      ]
     },
     "execution_count": 32,
     "metadata": {},
     "output_type": "execute_result"
    },
    {
     "data": {
      "image/png": "[encoded data removed]",
      "text/plain": [
       "<Figure size 432x288 with 1 Axes>"
      ]
     },
     "metadata": {
      "needs_background": "light"
     },
     "output_type": "display_data"
    }
   ],
   "source": [
    "datasets_tot.groupby([\"years\", \"origin\"])[\"dataset_id\"].size().unstack().plot(kind=\"bar\", stacked=False)\n",
    "plt.xlabel(\"Years\")\n",
    "plt.ylabel(\"Number of datasets\")\n"
   ]
  },
  {
   "cell_type": "markdown",
   "id": "c4e5f0f5-d236-497e-8a1d-fa2216250e31",
   "metadata": {},
   "source": [
    "##### Number of datasets per years"
   ]
  },
  {
   "cell_type": "code",
   "execution_count": 33,
   "id": "a3f66e2c-f875-40de-b812-f5251c367d11",
   "metadata": {},
   "outputs": [
    {
     "data": {
      "text/plain": [
       "Text(0, 0.5, 'Number of files')"
      ]
     },
     "execution_count": 33,
     "metadata": {},
     "output_type": "execute_result"
    },
    {
     "data": {
      "image/png": "[encoded data removed]",
      "text/plain": [
       "<Figure size 432x288 with 1 Axes>"
      ]
     },
     "metadata": {
      "needs_background": "light"
     },
     "output_type": "display_data"
    }
   ],
   "source": [
    "tot.groupby([\"years\", \"origin\"]).size().unstack().plot(kind=\"bar\", stacked=False)\n",
    "plt.xlabel(\"Years\")\n",
    "plt.ylabel(\"Number of files\")"
   ]
  }
 ],
 "metadata": {
  "kernelspec": {
   "display_name": "Python 3 (ipykernel)",
   "language": "python",
   "name": "python3"
  },
  "language_info": {
   "codemirror_mode": {
    "name": "ipython",
    "version": 3
   },
   "file_extension": ".py",
   "mimetype": "text/x-python",
   "name": "python",
   "nbconvert_exporter": "python",
   "pygments_lexer": "ipython3",
   "version": "3.9.10"
  }
 },
 "nbformat": 4,
 "nbformat_minor": 5
}
