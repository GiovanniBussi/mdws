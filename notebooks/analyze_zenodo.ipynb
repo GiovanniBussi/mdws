{
 "cells": [
  {
   "cell_type": "markdown",
   "id": "f8dc0c37-276e-4279-b710-d3a6a2f1b6c5",
   "metadata": {},
   "source": [
    "# Analysis of Zenodo data"
   ]
  },
  {
   "cell_type": "markdown",
   "id": "ada220c2-c589-4aae-a4c0-c582ec7b09ac",
   "metadata": {},
   "source": [
    "## Import packages"
   ]
  },
  {
   "cell_type": "code",
   "execution_count": 1,
   "id": "db6f72d5-d007-450d-9cb0-ec6fb0eba325",
   "metadata": {},
   "outputs": [],
   "source": [
    "import matplotlib.pyplot as plt\n",
    "import pandas as pd\n",
    "import yaml\n",
    "\n",
    "# Update font size for graphics\n",
    "plt.rcParams.update({'font.size': 20})"
   ]
  },
  {
   "cell_type": "markdown",
   "id": "20f83d4a-9483-4360-a177-2e37dc8b8f1f",
   "metadata": {},
   "source": [
    "## Load data"
   ]
  },
  {
   "cell_type": "code",
   "execution_count": 2,
   "id": "06369d5c-de38-470a-b654-ab34e33a3c71",
   "metadata": {},
   "outputs": [
    {
     "name": "stdout",
     "output_type": "stream",
     "text": [
      "Found 872 datasets.\n",
      "Found 146235 files.\n"
     ]
    },
    {
     "name": "stderr",
     "output_type": "stream",
     "text": [
      "/tmp/ipykernel_309014/907671346.py:3: DtypeWarning: Columns (4,7) have mixed types. Specify dtype option on import or set low_memory=False.\n",
      "  files = pd.read_csv(\"../data/zenodo_files.tsv\", sep=\"\\t\")\n"
     ]
    }
   ],
   "source": [
    "datasets = pd.read_csv(\"../data/zenodo_datasets.tsv\", sep=\"\\t\")\n",
    "print(f\"Found {datasets.shape[0]} datasets.\")\n",
    "files = pd.read_csv(\"../data/zenodo_files.tsv\", sep=\"\\t\")\n",
    "print(f\"Found {files.shape[0]} files.\")"
   ]
  },
  {
   "cell_type": "markdown",
   "id": "b09e0179-c7e3-4016-a363-c02f2d7221e1",
   "metadata": {},
   "source": [
    "Merge both dataframes.\n",
    "One dataset can be associated to many files."
   ]
  },
  {
   "cell_type": "code",
   "execution_count": 3,
   "id": "342f3750-152d-4160-89a9-fece33b26891",
   "metadata": {},
   "outputs": [
    {
     "name": "stdout",
     "output_type": "stream",
     "text": [
      "Dataframe has 146235 entries.\n"
     ]
    }
   ],
   "source": [
    "tab = pd.merge(files, datasets, how=\"left\", on=[\"dataset_id\", \"origin\"], validate=\"many_to_one\")\n",
    "print(f\"Dataframe has {tab.shape[0]} entries.\")"
   ]
  },
  {
   "cell_type": "code",
   "execution_count": 4,
   "id": "60bc6ba6-9489-4075-a617-6a03d86fa3fc",
   "metadata": {},
   "outputs": [
    {
     "data": {
      "text/plain": [
       "Index(['dataset_id', 'origin', 'file_type', 'file_size', 'file_md5',\n",
       "       'from_zip_file', 'file_name', 'file_url', 'origin_zip_file', 'doi',\n",
       "       'date_creation', 'date_last_modified', 'date_fetched', 'file_number',\n",
       "       'download_number', 'view_number', 'license', 'title', 'author',\n",
       "       'keywords', 'dataset_url'],\n",
       "      dtype='object')"
      ]
     },
     "execution_count": 4,
     "metadata": {},
     "output_type": "execute_result"
    }
   ],
   "source": [
    "tab.columns"
   ]
  },
  {
   "cell_type": "markdown",
   "id": "b67f0aef-63c3-40e2-9121-eb358c77e996",
   "metadata": {},
   "source": [
    "## Read query parameters"
   ]
  },
  {
   "cell_type": "code",
   "execution_count": 5,
   "id": "36b8f59f-5c04-48df-b6d2-3ff00d198aab",
   "metadata": {},
   "outputs": [],
   "source": [
    "def read_query_file(filename):\n",
    "    \"\"\"File query.yml parser.\n",
    "\n",
    "    This function parses the query file.\n",
    "\n",
    "    Parameters\n",
    "    ----------\n",
    "    filename : str\n",
    "        Filename for query parameters.\n",
    "    \n",
    "    Returns\n",
    "    -------\n",
    "    file_types : dict\n",
    "        Dictionary with type, engine, keywords to use and category\n",
    "    \"\"\"\n",
    "    with open(filename, \"r\") as param_file:\n",
    "        data_loaded = yaml.safe_load(param_file)\n",
    "    file_types = data_loaded[\"file_types\"]\n",
    "    return file_types"
   ]
  },
  {
   "cell_type": "code",
   "execution_count": 6,
   "id": "bc836189-67f9-407f-939c-593bc7508d38",
   "metadata": {},
   "outputs": [],
   "source": [
    "dico_file_types = read_query_file(\"../params/query.yml\")\n",
    "\n",
    "ext_gromacs = []\n",
    "ext_namd = []\n",
    "ext_amber = []\n",
    "\n",
    "list_coordinate = []\n",
    "list_trajectory = []\n",
    "list_topology = []\n",
    "\n",
    "for dico in dico_file_types:\n",
    "    if dico[\"engine\"] == \"gromacs\":\n",
    "        ext_gromacs.append(dico[\"type\"])\n",
    "    elif dico[\"engine\"] == \"namd\":\n",
    "        ext_namd.append(dico[\"type\"])\n",
    "    elif dico[\"engine\"] == \"amber\":\n",
    "        ext_amber.append(dico[\"type\"])\n",
    "    \n",
    "    if dico[\"category\"] == \"coordinate\":\n",
    "        list_coordinate.append(dico[\"type\"])\n",
    "    elif dico[\"category\"] == \"topology\":\n",
    "        list_topology.append(dico[\"type\"])\n",
    "    elif dico[\"category\"] == \"trajectory\":\n",
    "        list_trajectory.append(dico[\"type\"])\n",
    "\n",
    "ext_all = ext_gromacs + ext_namd + ext_amber\n",
    "        \n",
    "# The filetype \"top\" is included in both Gromacs and Amber. \n",
    "# And, the filetype \"prm\" is included in Namd and Amber.\n",
    "# But, to simplify the analyses, I consider that \"top\" is only a filetype of Gromacs and prm a filetype of Namd."
   ]
  },
  {
   "cell_type": "markdown",
   "id": "06798927-65a8-4278-b10b-8906be4883b1",
   "metadata": {},
   "source": [
    "## Compute number of keywords for each dataset"
   ]
  },
  {
   "cell_type": "code",
   "execution_count": 7,
   "id": "296af1fb-a7f6-4a78-92c4-c489861200df",
   "metadata": {},
   "outputs": [
    {
     "name": "stdout",
     "output_type": "stream",
     "text": [
      "Average number of keywords per dataset: 2.37\n"
     ]
    },
    {
     "data": {
      "image/png": "[encoded data removed]",
      "text/plain": [
       "<Figure size 720x504 with 1 Axes>"
      ]
     },
     "metadata": {
      "needs_background": "light"
     },
     "output_type": "display_data"
    }
   ],
   "source": [
    "def count_keywords(keywords):\n",
    "    \"\"\"Count number of keywords.\n",
    "    \n",
    "    Keywords are separated by ; or ,\n",
    "    \n",
    "    Parameters\n",
    "    ----------\n",
    "    keywords : str\n",
    "        Keywords.\n",
    "    \n",
    "    Returns\n",
    "    -------\n",
    "    int\n",
    "        Number of keywords.\n",
    "    \"\"\"\n",
    "    keywords = str(keywords)\n",
    "    if keywords and keywords not in [\"None\", \"nan\"]:\n",
    "        keywords_lst = keywords.replace(\",\", \";\").split(\";\")\n",
    "        return len(keywords_lst)\n",
    "    else:\n",
    "        return 0\n",
    "\n",
    "datasets[\"keywords_nb\"] = datasets[\"keywords\"].apply(count_keywords)\n",
    "datasets[\"keywords_nb\"].value_counts()\n",
    "\n",
    "plt.figure(figsize=(10,7))\n",
    "plt.hist(datasets[\"keywords_nb\"], \n",
    "         bins=max(datasets[\"keywords_nb\"]),\n",
    "         color=\"tab:orange\")\n",
    "plt.xlabel(\"Number of keywords\")\n",
    "plt.ylabel(\"Number of datasets\")\n",
    "plt.savefig(\"number_of_keywords_per_dataset.png\", dpi=300, bbox_inches=\"tight\")\n",
    "plt.savefig(\"number_of_keywords_per_dataset.svg\", bbox_inches=\"tight\")\n",
    "\n",
    "print(f\"Average number of keywords per dataset: {datasets['keywords_nb'].mean():.2f}\")"
   ]
  },
  {
   "cell_type": "markdown",
   "id": "43324d15-85a8-4b96-8d5a-706a6068884c",
   "metadata": {},
   "source": [
    "## Assign MD engine per file"
   ]
  },
  {
   "cell_type": "code",
   "execution_count": 8,
   "id": "fc7e6a40-7825-4b62-aabb-e59a744a4597",
   "metadata": {},
   "outputs": [
    {
     "data": {
      "text/plain": [
       "unknown    91747\n",
       "GROMACS    44513\n",
       "AMBER       5237\n",
       "NAMD        4738\n",
       "Name: engine_MD, dtype: int64"
      ]
     },
     "execution_count": 8,
     "metadata": {},
     "output_type": "execute_result"
    }
   ],
   "source": [
    "def assign_md_engine(file_type):\n",
    "    \"\"\"Assign MD engine based on file type.\n",
    "    \n",
    "    Parameters\n",
    "    ----------\n",
    "    file_type : str\n",
    "        File extension.\n",
    "    \n",
    "    Returns\n",
    "    -------\n",
    "    str\n",
    "        Name of MD engine.\n",
    "    \"\"\"\n",
    "    if file_type in ext_gromacs:\n",
    "        return \"GROMACS\"\n",
    "    elif file_type in ext_namd:\n",
    "        return \"NAMD\"\n",
    "    elif file_type in ext_amber:\n",
    "        return \"AMBER\"\n",
    "    else:\n",
    "        return \"unknown\"\n",
    "\n",
    "tab[\"engine_MD\"] = tab[\"file_type\"].apply(assign_md_engine)\n",
    "tab[\"engine_MD\"].value_counts()"
   ]
  },
  {
   "cell_type": "markdown",
   "id": "6f6405b8-89e7-4b3c-9964-0868fd363a44",
   "metadata": {},
   "source": [
    "## Assign file category"
   ]
  },
  {
   "cell_type": "code",
   "execution_count": 9,
   "id": "cbf52223-c4aa-4149-8e11-3c102e80e458",
   "metadata": {},
   "outputs": [
    {
     "data": {
      "text/plain": [
       "none          91747\n",
       "trajectory    29609\n",
       "topology      13040\n",
       "coordinate    11839\n",
       "Name: category, dtype: int64"
      ]
     },
     "execution_count": 9,
     "metadata": {},
     "output_type": "execute_result"
    }
   ],
   "source": [
    "def assign_file_category(file_type):\n",
    "    \"\"\"Assign file category based on file type.\n",
    "    \n",
    "    Parameters\n",
    "    ----------\n",
    "    file_type : str\n",
    "        File extension.\n",
    "    \n",
    "    Returns\n",
    "    -------\n",
    "    str\n",
    "        Category.\n",
    "    \"\"\"\n",
    "    if file_type in list_coordinate:\n",
    "        return \"coordinate\"\n",
    "    elif file_type in list_topology:\n",
    "        return \"topology\"\n",
    "    elif file_type in list_trajectory:\n",
    "        return \"trajectory\"\n",
    "    else:\n",
    "        return \"none\"\n",
    "\n",
    "tab[\"category\"] = tab[\"file_type\"].apply(assign_file_category)\n",
    "tab[\"category\"].value_counts()"
   ]
  },
  {
   "cell_type": "markdown",
   "id": "01b1982a-1d19-4392-88ec-fc004514bcec",
   "metadata": {},
   "source": [
    "## Extract year from date"
   ]
  },
  {
   "cell_type": "code",
   "execution_count": 10,
   "id": "9f08eb39-675b-4075-9bb4-f82344ebe384",
   "metadata": {},
   "outputs": [],
   "source": [
    "tab[\"year\"] = tab[\"date_creation\"].apply(lambda x: int(x[:4]))\n",
    "datasets[\"year\"] = datasets[\"date_creation\"].apply(lambda x: int(x[:4]))"
   ]
  },
  {
   "cell_type": "markdown",
   "id": "21fb5023-0868-425f-ad4e-41e2cf00c5c5",
   "metadata": {},
   "source": [
    "## Count number of files per dataset (without zip content)"
   ]
  },
  {
   "cell_type": "code",
   "execution_count": 11,
   "id": "da786bf5-904e-4ef5-aca7-ea6225458abf",
   "metadata": {},
   "outputs": [
    {
     "data": {
      "text/html": [
       "<div>\n",
       "<style scoped>\n",
       "    .dataframe tbody tr th:only-of-type {\n",
       "        vertical-align: middle;\n",
       "    }\n",
       "\n",
       "    .dataframe tbody tr th {\n",
       "        vertical-align: top;\n",
       "    }\n",
       "\n",
       "    .dataframe thead th {\n",
       "        text-align: right;\n",
       "    }\n",
       "</style>\n",
       "<table border=\"1\" class=\"dataframe\">\n",
       "  <thead>\n",
       "    <tr style=\"text-align: right;\">\n",
       "      <th></th>\n",
       "      <th>file_nb</th>\n",
       "    </tr>\n",
       "  </thead>\n",
       "  <tbody>\n",
       "    <tr>\n",
       "      <th>count</th>\n",
       "      <td>872.000000</td>\n",
       "    </tr>\n",
       "    <tr>\n",
       "      <th>mean</th>\n",
       "      <td>17.769495</td>\n",
       "    </tr>\n",
       "    <tr>\n",
       "      <th>std</th>\n",
       "      <td>37.882207</td>\n",
       "    </tr>\n",
       "    <tr>\n",
       "      <th>min</th>\n",
       "      <td>1.000000</td>\n",
       "    </tr>\n",
       "    <tr>\n",
       "      <th>25%</th>\n",
       "      <td>4.000000</td>\n",
       "    </tr>\n",
       "    <tr>\n",
       "      <th>50%</th>\n",
       "      <td>9.000000</td>\n",
       "    </tr>\n",
       "    <tr>\n",
       "      <th>75%</th>\n",
       "      <td>16.000000</td>\n",
       "    </tr>\n",
       "    <tr>\n",
       "      <th>max</th>\n",
       "      <td>800.000000</td>\n",
       "    </tr>\n",
       "  </tbody>\n",
       "</table>\n",
       "</div>"
      ],
      "text/plain": [
       "          file_nb\n",
       "count  872.000000\n",
       "mean    17.769495\n",
       "std     37.882207\n",
       "min      1.000000\n",
       "25%      4.000000\n",
       "50%      9.000000\n",
       "75%     16.000000\n",
       "max    800.000000"
      ]
     },
     "execution_count": 11,
     "metadata": {},
     "output_type": "execute_result"
    }
   ],
   "source": [
    "(tab\n",
    " .query(\"from_zip_file == False\")\n",
    " .groupby(\"dataset_id\")\n",
    " .agg({\"file_md5\": \"size\", \"dataset_url\":\"first\"})\n",
    " .rename(columns={\"file_md5\": \"file_nb\"})\n",
    " .describe()\n",
    ")"
   ]
  },
  {
   "cell_type": "markdown",
   "id": "5de03d63-a44a-426f-b4aa-e016ad62f401",
   "metadata": {},
   "source": [
    "Datasets with the most files:"
   ]
  },
  {
   "cell_type": "code",
   "execution_count": 12,
   "id": "ddbefa2c-86b4-498d-8e49-5173a47d7ec8",
   "metadata": {},
   "outputs": [
    {
     "data": {
      "text/html": [
       "<div>\n",
       "<style scoped>\n",
       "    .dataframe tbody tr th:only-of-type {\n",
       "        vertical-align: middle;\n",
       "    }\n",
       "\n",
       "    .dataframe tbody tr th {\n",
       "        vertical-align: top;\n",
       "    }\n",
       "\n",
       "    .dataframe thead th {\n",
       "        text-align: right;\n",
       "    }\n",
       "</style>\n",
       "<table border=\"1\" class=\"dataframe\">\n",
       "  <thead>\n",
       "    <tr style=\"text-align: right;\">\n",
       "      <th></th>\n",
       "      <th>file_nb</th>\n",
       "      <th>dataset_url</th>\n",
       "    </tr>\n",
       "    <tr>\n",
       "      <th>dataset_id</th>\n",
       "      <th></th>\n",
       "      <th></th>\n",
       "    </tr>\n",
       "  </thead>\n",
       "  <tbody>\n",
       "    <tr>\n",
       "      <th>4056037</th>\n",
       "      <td>800</td>\n",
       "      <td>https://zenodo.org/record/4056037</td>\n",
       "    </tr>\n",
       "    <tr>\n",
       "      <th>825048</th>\n",
       "      <td>332</td>\n",
       "      <td>https://zenodo.org/record/825048</td>\n",
       "    </tr>\n",
       "    <tr>\n",
       "      <th>4627963</th>\n",
       "      <td>230</td>\n",
       "      <td>https://zenodo.org/record/4627963</td>\n",
       "    </tr>\n",
       "    <tr>\n",
       "      <th>238943</th>\n",
       "      <td>217</td>\n",
       "      <td>https://zenodo.org/record/238943</td>\n",
       "    </tr>\n",
       "    <tr>\n",
       "      <th>825185</th>\n",
       "      <td>189</td>\n",
       "      <td>https://zenodo.org/record/825185</td>\n",
       "    </tr>\n",
       "  </tbody>\n",
       "</table>\n",
       "</div>"
      ],
      "text/plain": [
       "            file_nb                        dataset_url\n",
       "dataset_id                                            \n",
       "4056037         800  https://zenodo.org/record/4056037\n",
       "825048          332   https://zenodo.org/record/825048\n",
       "4627963         230  https://zenodo.org/record/4627963\n",
       "238943          217   https://zenodo.org/record/238943\n",
       "825185          189   https://zenodo.org/record/825185"
      ]
     },
     "execution_count": 12,
     "metadata": {},
     "output_type": "execute_result"
    }
   ],
   "source": [
    "(tab\n",
    " .query(\"from_zip_file == False\")\n",
    " .groupby(\"dataset_id\")\n",
    " .agg({\"file_md5\": \"size\", \"dataset_url\":\"first\"})\n",
    " .rename(columns={\"file_md5\": \"file_nb\"})\n",
    " .sort_values(by=[\"file_nb\"], ascending=False)\n",
    " .head()\n",
    ")"
   ]
  },
  {
   "cell_type": "markdown",
   "id": "47f3a29e-320d-4a09-bda6-eab4fded2bf7",
   "metadata": {},
   "source": [
    "## Count number of files per dataset (with zip content)"
   ]
  },
  {
   "cell_type": "code",
   "execution_count": 13,
   "id": "26344c3a-1c07-4240-b9d8-fa5cb95366bf",
   "metadata": {},
   "outputs": [
    {
     "data": {
      "text/html": [
       "<div>\n",
       "<style scoped>\n",
       "    .dataframe tbody tr th:only-of-type {\n",
       "        vertical-align: middle;\n",
       "    }\n",
       "\n",
       "    .dataframe tbody tr th {\n",
       "        vertical-align: top;\n",
       "    }\n",
       "\n",
       "    .dataframe thead th {\n",
       "        text-align: right;\n",
       "    }\n",
       "</style>\n",
       "<table border=\"1\" class=\"dataframe\">\n",
       "  <thead>\n",
       "    <tr style=\"text-align: right;\">\n",
       "      <th></th>\n",
       "      <th>file_nb</th>\n",
       "    </tr>\n",
       "  </thead>\n",
       "  <tbody>\n",
       "    <tr>\n",
       "      <th>count</th>\n",
       "      <td>872.000000</td>\n",
       "    </tr>\n",
       "    <tr>\n",
       "      <th>mean</th>\n",
       "      <td>166.170872</td>\n",
       "    </tr>\n",
       "    <tr>\n",
       "      <th>std</th>\n",
       "      <td>575.895636</td>\n",
       "    </tr>\n",
       "    <tr>\n",
       "      <th>min</th>\n",
       "      <td>1.000000</td>\n",
       "    </tr>\n",
       "    <tr>\n",
       "      <th>25%</th>\n",
       "      <td>9.000000</td>\n",
       "    </tr>\n",
       "    <tr>\n",
       "      <th>50%</th>\n",
       "      <td>16.000000</td>\n",
       "    </tr>\n",
       "    <tr>\n",
       "      <th>75%</th>\n",
       "      <td>59.000000</td>\n",
       "    </tr>\n",
       "    <tr>\n",
       "      <th>max</th>\n",
       "      <td>12030.000000</td>\n",
       "    </tr>\n",
       "  </tbody>\n",
       "</table>\n",
       "</div>"
      ],
      "text/plain": [
       "            file_nb\n",
       "count    872.000000\n",
       "mean     166.170872\n",
       "std      575.895636\n",
       "min        1.000000\n",
       "25%        9.000000\n",
       "50%       16.000000\n",
       "75%       59.000000\n",
       "max    12030.000000"
      ]
     },
     "execution_count": 13,
     "metadata": {},
     "output_type": "execute_result"
    }
   ],
   "source": [
    "(tab\n",
    " .query(\"file_type != 'zip'\")\n",
    " .groupby(\"dataset_id\")\n",
    " .agg({\"file_md5\": \"size\", \"dataset_url\":\"first\"})\n",
    " .rename(columns={\"file_md5\": \"file_nb\"})\n",
    " .describe()\n",
    ")"
   ]
  },
  {
   "cell_type": "markdown",
   "id": "23c71868-bb62-4799-aa60-21809e3902eb",
   "metadata": {},
   "source": [
    "Datasets with the most files:"
   ]
  },
  {
   "cell_type": "code",
   "execution_count": 14,
   "id": "7b9228df-e59f-42e7-81b7-e73c2b55224b",
   "metadata": {},
   "outputs": [
    {
     "data": {
      "text/html": [
       "<div>\n",
       "<style scoped>\n",
       "    .dataframe tbody tr th:only-of-type {\n",
       "        vertical-align: middle;\n",
       "    }\n",
       "\n",
       "    .dataframe tbody tr th {\n",
       "        vertical-align: top;\n",
       "    }\n",
       "\n",
       "    .dataframe thead th {\n",
       "        text-align: right;\n",
       "    }\n",
       "</style>\n",
       "<table border=\"1\" class=\"dataframe\">\n",
       "  <thead>\n",
       "    <tr style=\"text-align: right;\">\n",
       "      <th></th>\n",
       "      <th>file_nb</th>\n",
       "      <th>dataset_url</th>\n",
       "    </tr>\n",
       "    <tr>\n",
       "      <th>dataset_id</th>\n",
       "      <th></th>\n",
       "      <th></th>\n",
       "    </tr>\n",
       "  </thead>\n",
       "  <tbody>\n",
       "    <tr>\n",
       "      <th>6477772</th>\n",
       "      <td>12030</td>\n",
       "      <td>https://zenodo.org/record/6477772</td>\n",
       "    </tr>\n",
       "    <tr>\n",
       "      <th>3780467</th>\n",
       "      <td>4280</td>\n",
       "      <td>https://zenodo.org/record/3780467</td>\n",
       "    </tr>\n",
       "    <tr>\n",
       "      <th>5797177</th>\n",
       "      <td>3897</td>\n",
       "      <td>https://zenodo.org/record/5797177</td>\n",
       "    </tr>\n",
       "    <tr>\n",
       "      <th>4650406</th>\n",
       "      <td>3538</td>\n",
       "      <td>https://zenodo.org/record/4650406</td>\n",
       "    </tr>\n",
       "    <tr>\n",
       "      <th>2547317</th>\n",
       "      <td>3351</td>\n",
       "      <td>https://zenodo.org/record/2547317</td>\n",
       "    </tr>\n",
       "  </tbody>\n",
       "</table>\n",
       "</div>"
      ],
      "text/plain": [
       "            file_nb                        dataset_url\n",
       "dataset_id                                            \n",
       "6477772       12030  https://zenodo.org/record/6477772\n",
       "3780467        4280  https://zenodo.org/record/3780467\n",
       "5797177        3897  https://zenodo.org/record/5797177\n",
       "4650406        3538  https://zenodo.org/record/4650406\n",
       "2547317        3351  https://zenodo.org/record/2547317"
      ]
     },
     "execution_count": 14,
     "metadata": {},
     "output_type": "execute_result"
    }
   ],
   "source": [
    "(tab\n",
    " .query(\"file_type != 'zip'\")\n",
    " .groupby(\"dataset_id\")\n",
    " .agg({\"file_md5\": \"size\", \"dataset_url\":\"first\"})\n",
    " .rename(columns={\"file_md5\": \"file_nb\"})\n",
    " .sort_values(by=[\"file_nb\"], ascending=False)\n",
    " .head()\n",
    ")"
   ]
  },
  {
   "cell_type": "markdown",
   "id": "c82da8b9-b8b0-4b94-a0f9-ec7d87402a57",
   "metadata": {},
   "source": [
    "## Count average number of views and downloads per dataset"
   ]
  },
  {
   "cell_type": "code",
   "execution_count": 15,
   "id": "ce2e7a09-a999-49c4-b0e3-62b07fd4f86d",
   "metadata": {},
   "outputs": [
    {
     "data": {
      "text/html": [
       "<div>\n",
       "<style scoped>\n",
       "    .dataframe tbody tr th:only-of-type {\n",
       "        vertical-align: middle;\n",
       "    }\n",
       "\n",
       "    .dataframe tbody tr th {\n",
       "        vertical-align: top;\n",
       "    }\n",
       "\n",
       "    .dataframe thead th {\n",
       "        text-align: right;\n",
       "    }\n",
       "</style>\n",
       "<table border=\"1\" class=\"dataframe\">\n",
       "  <thead>\n",
       "    <tr style=\"text-align: right;\">\n",
       "      <th></th>\n",
       "      <th>view_number</th>\n",
       "      <th>download_number</th>\n",
       "    </tr>\n",
       "  </thead>\n",
       "  <tbody>\n",
       "    <tr>\n",
       "      <th>count</th>\n",
       "      <td>872.000000</td>\n",
       "      <td>872.000000</td>\n",
       "    </tr>\n",
       "    <tr>\n",
       "      <th>mean</th>\n",
       "      <td>84.850917</td>\n",
       "      <td>126.805046</td>\n",
       "    </tr>\n",
       "    <tr>\n",
       "      <th>std</th>\n",
       "      <td>375.576096</td>\n",
       "      <td>280.761174</td>\n",
       "    </tr>\n",
       "    <tr>\n",
       "      <th>min</th>\n",
       "      <td>0.000000</td>\n",
       "      <td>0.000000</td>\n",
       "    </tr>\n",
       "    <tr>\n",
       "      <th>25%</th>\n",
       "      <td>23.000000</td>\n",
       "      <td>15.000000</td>\n",
       "    </tr>\n",
       "    <tr>\n",
       "      <th>50%</th>\n",
       "      <td>41.000000</td>\n",
       "      <td>51.000000</td>\n",
       "    </tr>\n",
       "    <tr>\n",
       "      <th>75%</th>\n",
       "      <td>67.000000</td>\n",
       "      <td>114.250000</td>\n",
       "    </tr>\n",
       "    <tr>\n",
       "      <th>max</th>\n",
       "      <td>8767.000000</td>\n",
       "      <td>3908.000000</td>\n",
       "    </tr>\n",
       "  </tbody>\n",
       "</table>\n",
       "</div>"
      ],
      "text/plain": [
       "       view_number  download_number\n",
       "count   872.000000       872.000000\n",
       "mean     84.850917       126.805046\n",
       "std     375.576096       280.761174\n",
       "min       0.000000         0.000000\n",
       "25%      23.000000        15.000000\n",
       "50%      41.000000        51.000000\n",
       "75%      67.000000       114.250000\n",
       "max    8767.000000      3908.000000"
      ]
     },
     "execution_count": 15,
     "metadata": {},
     "output_type": "execute_result"
    }
   ],
   "source": [
    "(datasets\n",
    " .loc[:,[\"view_number\", \"download_number\"]]\n",
    " .describe()\n",
    ")"
   ]
  },
  {
   "cell_type": "markdown",
   "id": "0501c808-e27f-4f68-8e23-94df3da7d5fe",
   "metadata": {},
   "source": [
    "Datasets with the most downloads:"
   ]
  },
  {
   "cell_type": "code",
   "execution_count": 16,
   "id": "799dac43-49d7-4dcf-8eab-047025f7c64f",
   "metadata": {},
   "outputs": [
    {
     "data": {
      "text/html": [
       "<div>\n",
       "<style scoped>\n",
       "    .dataframe tbody tr th:only-of-type {\n",
       "        vertical-align: middle;\n",
       "    }\n",
       "\n",
       "    .dataframe tbody tr th {\n",
       "        vertical-align: top;\n",
       "    }\n",
       "\n",
       "    .dataframe thead th {\n",
       "        text-align: right;\n",
       "    }\n",
       "</style>\n",
       "<table border=\"1\" class=\"dataframe\">\n",
       "  <thead>\n",
       "    <tr style=\"text-align: right;\">\n",
       "      <th></th>\n",
       "      <th>dataset_url</th>\n",
       "      <th>download_number</th>\n",
       "    </tr>\n",
       "  </thead>\n",
       "  <tbody>\n",
       "    <tr>\n",
       "      <th>454</th>\n",
       "      <td>https://zenodo.org/record/825048</td>\n",
       "      <td>3908</td>\n",
       "    </tr>\n",
       "    <tr>\n",
       "      <th>780</th>\n",
       "      <td>https://zenodo.org/record/167336</td>\n",
       "      <td>2821</td>\n",
       "    </tr>\n",
       "    <tr>\n",
       "      <th>246</th>\n",
       "      <td>https://zenodo.org/record/238943</td>\n",
       "      <td>2645</td>\n",
       "    </tr>\n",
       "    <tr>\n",
       "      <th>77</th>\n",
       "      <td>https://zenodo.org/record/3237420</td>\n",
       "      <td>1867</td>\n",
       "    </tr>\n",
       "    <tr>\n",
       "      <th>480</th>\n",
       "      <td>https://zenodo.org/record/3604448</td>\n",
       "      <td>1741</td>\n",
       "    </tr>\n",
       "  </tbody>\n",
       "</table>\n",
       "</div>"
      ],
      "text/plain": [
       "                           dataset_url  download_number\n",
       "454   https://zenodo.org/record/825048             3908\n",
       "780   https://zenodo.org/record/167336             2821\n",
       "246   https://zenodo.org/record/238943             2645\n",
       "77   https://zenodo.org/record/3237420             1867\n",
       "480  https://zenodo.org/record/3604448             1741"
      ]
     },
     "execution_count": 16,
     "metadata": {},
     "output_type": "execute_result"
    }
   ],
   "source": [
    "(datasets\n",
    " .loc[:,[\"dataset_url\", \"download_number\"]]\n",
    " .sort_values(by=[\"download_number\"], ascending=False)\n",
    " .head()\n",
    ")"
   ]
  },
  {
   "cell_type": "markdown",
   "id": "a01c4e21-bbe1-4287-ab20-c9e8de738c2f",
   "metadata": {},
   "source": [
    "For Zenodo, we might want to considere [*Unique downloads*](https://help.zenodo.org/#statistics) instead"
   ]
  },
  {
   "cell_type": "markdown",
   "id": "ccf3741f-f843-46f4-881b-e3a8cd351d0e",
   "metadata": {
    "tags": []
   },
   "source": [
    "## Total size of all files with zip files\n",
    "\n",
    "In TB, zip files included, zip files content excluded."
   ]
  },
  {
   "cell_type": "code",
   "execution_count": 17,
   "id": "26a09283-6473-4b13-a0d4-bc11b378d7c4",
   "metadata": {},
   "outputs": [
    {
     "data": {
      "text/plain": [
       "9.703409919078"
      ]
     },
     "execution_count": 17,
     "metadata": {},
     "output_type": "execute_result"
    }
   ],
   "source": [
    "(tab\n",
    " .query(\"from_zip_file == False\")\n",
    " .loc[:, \"file_size\"]\n",
    " .sum()/10**12\n",
    ")"
   ]
  },
  {
   "cell_type": "markdown",
   "id": "6a27be71-b877-47d3-972c-09fe832df236",
   "metadata": {},
   "source": [
    "## Total size of all files without zip files\n",
    "\n",
    "In TB, zip files excluded, zip files content included.\n",
    "\n",
    "This is the most realistic size."
   ]
  },
  {
   "cell_type": "code",
   "execution_count": 18,
   "id": "c19ced2f-eeb9-4565-bb69-648541fa0f8e",
   "metadata": {},
   "outputs": [
    {
     "data": {
      "text/plain": [
       "9.435687999595"
      ]
     },
     "execution_count": 18,
     "metadata": {},
     "output_type": "execute_result"
    }
   ],
   "source": [
    "(tab\n",
    " .query(\"file_type != 'zip'\")\n",
    " .loc[:, \"file_size\"]\n",
    " .sum()/10**12\n",
    ")"
   ]
  },
  {
   "cell_type": "markdown",
   "id": "57d88b4d-e4e7-4420-9a42-af3213ad689e",
   "metadata": {},
   "source": [
    "## Remove zip files\n",
    "\n",
    "We remove zip files but keep not their content."
   ]
  },
  {
   "cell_type": "code",
   "execution_count": 19,
   "id": "83ff0ff7-42a0-419d-9bb3-2961f6994ee5",
   "metadata": {},
   "outputs": [
    {
     "name": "stdout",
     "output_type": "stream",
     "text": [
      "Remove 1334 zip files.\n"
     ]
    }
   ],
   "source": [
    "files_nb_before = tab.shape[0]\n",
    "tab = tab[tab[\"file_type\"] != \"zip\"]\n",
    "print(f\"Remove {files_nb_before - tab.shape[0]} zip files.\")"
   ]
  },
  {
   "cell_type": "markdown",
   "id": "bcb23400-bbe3-4afb-8904-273a8e8374c7",
   "metadata": {},
   "source": [
    "## Average number of files per dataset"
   ]
  },
  {
   "cell_type": "code",
   "execution_count": 20,
   "id": "4a71c079-c421-4bf2-9a58-9138eca212a9",
   "metadata": {},
   "outputs": [
    {
     "name": "stdout",
     "output_type": "stream",
     "text": [
      "A dataset contains on average 166 files.\n"
     ]
    }
   ],
   "source": [
    "print(f\"A dataset contains on average {tab.groupby(['dataset_id'])['file_md5'].size().mean():.0f} files.\")"
   ]
  },
  {
   "cell_type": "markdown",
   "id": "056aab8e-8cf0-478f-bc26-149c1a8c6771",
   "metadata": {},
   "source": [
    "## Analysis"
   ]
  },
  {
   "cell_type": "markdown",
   "id": "1b121061-42af-48f6-b318-427f6bcf8389",
   "metadata": {},
   "source": [
    "### Number of files per MD engine"
   ]
  },
  {
   "cell_type": "code",
   "execution_count": 21,
   "id": "70a19797-0ffe-43ad-a019-c956da8a204c",
   "metadata": {},
   "outputs": [
    {
     "data": {
      "image/png": "[encoded data removed]",
      "text/plain": [
       "<Figure size 720x504 with 1 Axes>"
      ]
     },
     "metadata": {
      "needs_background": "light"
     },
     "output_type": "display_data"
    }
   ],
   "source": [
    "(tab\n",
    " .loc[:, \"engine_MD\"]\n",
    " .value_counts()\n",
    " .sort_index()\n",
    " .plot(kind=\"bar\", color=[\"tab:blue\", \"tab:orange\", \"tab:green\", \"tab:purple\"], figsize=(10,7))\n",
    ")\n",
    "plt.xlabel(\"MD engine\")\n",
    "plt.xticks(rotation=0)\n",
    "plt.ylabel(\"Number of files\")\n",
    "plt.savefig(\"number_of_files_per_MD_engine.png\", dpi=300, bbox_inches=\"tight\")\n",
    "plt.savefig(\"number_of_files_per_MD_engine.svg\", bbox_inches=\"tight\")"
   ]
  },
  {
   "cell_type": "code",
   "execution_count": 23,
   "id": "b63a0e82-882e-4498-bc0f-daf47369e6e8",
   "metadata": {},
   "outputs": [
    {
     "data": {
      "image/png": "[encoded data removed]",
      "text/plain": [
       "<Figure size 720x504 with 1 Axes>"
      ]
     },
     "metadata": {
      "needs_background": "light"
     },
     "output_type": "display_data"
    }
   ],
   "source": [
    "(tab\n",
    " .groupby(\"engine_MD\")[\"category\"]\n",
    " .value_counts()\n",
    " .unstack()\n",
    " .plot.bar(stacked=True, figsize=(10,7))\n",
    ")\n",
    "plt.xlabel(\"MD engine\")\n",
    "plt.xticks(rotation=0)\n",
    "plt.ylabel(\"Number of files\")\n",
    "plt.savefig(\"number_of_files_per_MD_engine_per_categories.png\", dpi=300, bbox_inches=\"tight\")\n",
    "plt.savefig(\"number_of_files_per_MD_engine_per_categories.svg\", bbox_inches=\"tight\")"
   ]
  },
  {
   "cell_type": "markdown",
   "id": "683c2cf4-2410-4232-8f3a-2967b6621d85",
   "metadata": {},
   "source": [
    "#### Number of datasets per years"
   ]
  },
  {
   "cell_type": "code",
   "execution_count": 24,
   "id": "91fc0a13-d37a-481d-b88b-1b2d5a6c06f3",
   "metadata": {},
   "outputs": [
    {
     "data": {
      "image/png": "[encoded data removed]",
      "text/plain": [
       "<Figure size 720x504 with 1 Axes>"
      ]
     },
     "metadata": {
      "needs_background": "light"
     },
     "output_type": "display_data"
    }
   ],
   "source": [
    "(datasets\n",
    " .query(\"year != 2022\")\n",
    " .groupby([\"year\"])[\"dataset_id\"]\n",
    " .size()\n",
    " .plot(kind=\"bar\", figsize=(10,7))\n",
    ")\n",
    "plt.xlabel(\"Years\")\n",
    "plt.xticks(rotation=0)\n",
    "plt.ylabel(\"Number of datasets\")\n",
    "plt.savefig(\"number_of_datasets_per_years.png\", dpi=300, bbox_inches=\"tight\")\n",
    "plt.savefig(\"number_of_datasets_per_years.svg\", bbox_inches=\"tight\")"
   ]
  },
  {
   "cell_type": "markdown",
   "id": "dfb04443-2a86-4eeb-bdc4-41c25dcf4ed8",
   "metadata": {},
   "source": [
    "### Number of files per years"
   ]
  },
  {
   "cell_type": "code",
   "execution_count": 25,
   "id": "5f26f233-9e83-4a87-a260-6a4bfcc829b3",
   "metadata": {},
   "outputs": [
    {
     "data": {
      "image/png": "[encoded data removed]",
      "text/plain": [
       "<Figure size 720x504 with 1 Axes>"
      ]
     },
     "metadata": {
      "needs_background": "light"
     },
     "output_type": "display_data"
    }
   ],
   "source": [
    "(tab\n",
    " .query(\"year != 2022\")\n",
    " .loc[:, \"year\"]\n",
    " .value_counts()\n",
    " .sort_index()\n",
    " .plot(kind=\"bar\", figsize=(10,7))\n",
    ")\n",
    "plt.xlabel(\"Years\")\n",
    "plt.xticks(rotation=0)\n",
    "plt.ylabel(\"Number of files\")\n",
    "plt.savefig(\"number_of_files_per_years.png\", dpi=300, bbox_inches=\"tight\")\n",
    "plt.savefig(\"number_of_files_per_years.svg\", bbox_inches=\"tight\")"
   ]
  },
  {
   "cell_type": "code",
   "execution_count": 26,
   "id": "c8ee572b-356c-442a-8c7d-4139d8759652",
   "metadata": {},
   "outputs": [
    {
     "data": {
      "image/png": "[encoded data removed]",
      "text/plain": [
       "<Figure size 720x504 with 1 Axes>"
      ]
     },
     "metadata": {
      "needs_background": "light"
     },
     "output_type": "display_data"
    }
   ],
   "source": [
    "(tab\n",
    " .query(\"year != 2022\")\n",
    " .groupby([\"year\", \"engine_MD\"])\n",
    " .size().unstack()\n",
    " .plot(kind=\"bar\", stacked=True, figsize=(10,7))\n",
    ")\n",
    "plt.xlabel(\"Years\")\n",
    "plt.xticks(rotation=0)\n",
    "plt.ylabel(\"Number of files\")\n",
    "plt.legend(title=\"MD engine\")\n",
    "plt.savefig(\"number_of_files_per_years_per_MD_engines.png\", dpi=300, bbox_inches=\"tight\")\n",
    "plt.savefig(\"number_of_files_per_years_per_MD_engines.svg\", bbox_inches=\"tight\")"
   ]
  },
  {
   "cell_type": "markdown",
   "id": "e9cb3815-281a-419c-909c-6368c5d57c28",
   "metadata": {},
   "source": [
    "### Number of files per filetype\n",
    "\n",
    "For files not associated to MD engine."
   ]
  },
  {
   "cell_type": "code",
   "execution_count": 29,
   "id": "e984e183-d80a-41d3-af66-ed0c6c5346a1",
   "metadata": {},
   "outputs": [
    {
     "data": {
      "image/png": "[encoded data removed]",
      "text/plain": [
       "<Figure size 720x504 with 1 Axes>"
      ]
     },
     "metadata": {
      "needs_background": "light"
     },
     "output_type": "display_data"
    }
   ],
   "source": [
    "(tab\n",
    " .query(\"engine_MD == 'unknown'\")\n",
    " .loc[:, \"file_type\"]\n",
    " .value_counts()\n",
    " .head(n=10)\n",
    " .plot(kind=\"bar\", color=\"tab:purple\", figsize=(10,7))\n",
    ")\n",
    "plt.xlabel(\"File type\")\n",
    "plt.xticks(rotation=0)\n",
    "plt.ylabel(\"Number of files\")\n",
    "plt.savefig(\"number_of_files_per_filetype_no_MD_engine.png\", dpi=300, bbox_inches=\"tight\")\n",
    "plt.savefig(\"number_of_files_per_filetype_no_MD_engine.svg\", bbox_inches=\"tight\")"
   ]
  },
  {
   "cell_type": "markdown",
   "id": "13cd5b35-b77b-49bc-8550-9b155d855339",
   "metadata": {},
   "source": [
    "#### For Gromacs"
   ]
  },
  {
   "cell_type": "code",
   "execution_count": 45,
   "id": "f06045ad-9ee9-4fc3-8ff5-87aaf6fbbc99",
   "metadata": {},
   "outputs": [
    {
     "data": {
      "image/png": "[encoded data removed]",
      "text/plain": [
       "<Figure size 720x504 with 1 Axes>"
      ]
     },
     "metadata": {
      "needs_background": "light"
     },
     "output_type": "display_data"
    }
   ],
   "source": [
    "(tab\n",
    " .query(\"file_type in @ext_gromacs\")\n",
    " .groupby(\"file_type\")[\"category\"]\n",
    " .value_counts()\n",
    " .unstack().plot.bar(stacked=True, figsize=(10,7))\n",
    ")\n",
    "plt.xlabel(\"File types for Gromacs\")\n",
    "plt.xticks(rotation=0)\n",
    "plt.ylabel(\"Number of files\")\n",
    "plt.savefig(\"number_of_files_per_filetype_gromacs.png\", dpi=300, bbox_inches=\"tight\")\n",
    "plt.savefig(\"number_of_files_per_filetype_gromacs.svg\", bbox_inches=\"tight\")"
   ]
  },
  {
   "cell_type": "markdown",
   "id": "5a0325a5-70cd-4d59-86c4-8ac307741194",
   "metadata": {},
   "source": [
    "### File size per year\n",
    "\n",
    "- in TB\n",
    "- In Zenodo, individual file size cannot go above 50 GB (see [FAQ](https://help.zenodo.org/))."
   ]
  },
  {
   "cell_type": "code",
   "execution_count": 37,
   "id": "d7e6f26a-7fdf-445b-9e5e-8dde566466f4",
   "metadata": {},
   "outputs": [
    {
     "data": {
      "text/plain": [
       "year\n",
       "2014    0.000740\n",
       "2015    0.156826\n",
       "2016    0.144266\n",
       "2017    1.216157\n",
       "2018    1.183853\n",
       "2019    1.338739\n",
       "2020    2.647268\n",
       "2021    1.938335\n",
       "2022    0.809503\n",
       "Name: file_size, dtype: float64"
      ]
     },
     "execution_count": 37,
     "metadata": {},
     "output_type": "execute_result"
    }
   ],
   "source": [
    "(tab.groupby([\"year\"])[\"file_size\"].sum()/10**12)"
   ]
  },
  {
   "cell_type": "markdown",
   "id": "d65b036d-3851-4790-a810-d336aa796989",
   "metadata": {},
   "source": [
    "### Comparison with figshare data"
   ]
  },
  {
   "cell_type": "markdown",
   "id": "9fac0ac1-293f-4cbe-a9ca-90dca74e0138",
   "metadata": {},
   "source": [
    "#### Load data"
   ]
  },
  {
   "cell_type": "code",
   "execution_count": 39,
   "id": "bb1f7c81-a27e-4f9f-a574-91d7bee7dc57",
   "metadata": {},
   "outputs": [
    {
     "name": "stdout",
     "output_type": "stream",
     "text": [
      "Found 91 datasets.\n",
      "Found 18796 files.\n"
     ]
    }
   ],
   "source": [
    "datasets_f = pd.read_csv(\"../figshare_datasets.tsv\", sep=\"\\t\")\n",
    "print(f\"Found {datasets_f.shape[0]} datasets.\")\n",
    "files_f = pd.read_csv(\"../figshare_files.tsv\", sep=\"\\t\")\n",
    "print(f\"Found {files_f.shape[0]} files.\")"
   ]
  },
  {
   "cell_type": "markdown",
   "id": "67e820aa-de31-4876-8560-c5cd3dbde23d",
   "metadata": {},
   "source": [
    "Merge both dataframes. One dataset can be associated to many files."
   ]
  },
  {
   "cell_type": "code",
   "execution_count": 40,
   "id": "c5b63eaa-0168-40f2-a3e6-402a356b9ea5",
   "metadata": {},
   "outputs": [
    {
     "name": "stdout",
     "output_type": "stream",
     "text": [
      "Found 18796 rows.\n"
     ]
    }
   ],
   "source": [
    "tab_f = pd.merge(files_f, datasets_f, how=\"left\", on=[\"dataset_id\", \"origin\"], validate=\"many_to_one\")\n",
    "print(f\"Found {tab_f.shape[0]} rows.\")"
   ]
  },
  {
   "cell_type": "markdown",
   "id": "8ff36f74-9f2a-4dfc-a26e-ff04dcee5efa",
   "metadata": {},
   "source": [
    "#### Extract year from date"
   ]
  },
  {
   "cell_type": "code",
   "execution_count": 41,
   "id": "1f2dbddb-dd08-428b-b3de-9be073d4c7c7",
   "metadata": {},
   "outputs": [],
   "source": [
    "tab_f[\"years\"] = tab_f[\"date_creation\"].apply(lambda x: int(x[:4]))\n",
    "datasets_f[\"years\"] = datasets_f[\"date_creation\"].apply(lambda x: int(x[:4]))"
   ]
  },
  {
   "cell_type": "markdown",
   "id": "3e6844c3-6865-4048-8448-78fe8034510f",
   "metadata": {},
   "source": [
    "#### Concatenation of data"
   ]
  },
  {
   "cell_type": "code",
   "execution_count": 42,
   "id": "8eb84085-4992-4a4f-b579-e93138060121",
   "metadata": {},
   "outputs": [
    {
     "name": "stdout",
     "output_type": "stream",
     "text": [
      "Found 872 datasets.\n",
      "Found 91 datasets.\n",
      "Found 963 datasets.\n"
     ]
    }
   ],
   "source": [
    "tot = pd.concat([tab, tab_f])\n",
    "datasets_tot = pd.concat([datasets, datasets_f])\n",
    "print(f\"Found {datasets.shape[0]} datasets.\")\n",
    "print(f\"Found {datasets_f.shape[0]} datasets.\")\n",
    "print(f\"Found {datasets_tot.shape[0]} datasets.\")"
   ]
  },
  {
   "cell_type": "markdown",
   "id": "c90709e3-2a6b-40a7-a454-4c32955ca63d",
   "metadata": {},
   "source": [
    "#### Analysis"
   ]
  },
  {
   "cell_type": "markdown",
   "id": "daeb5bb6-9ebb-43bd-8f87-3b852fad3675",
   "metadata": {},
   "source": [
    "##### Number of datasets per years"
   ]
  },
  {
   "cell_type": "code",
   "execution_count": 43,
   "id": "07b6960b-1840-415a-8661-78b92ff89925",
   "metadata": {},
   "outputs": [
    {
     "data": {
      "text/plain": [
       "Text(0, 0.5, 'Number of datasets')"
      ]
     },
     "execution_count": 43,
     "metadata": {},
     "output_type": "execute_result"
    },
    {
     "data": {
      "image/png": "[encoded data removed]",
      "text/plain": [
       "<Figure size 432x288 with 1 Axes>"
      ]
     },
     "metadata": {
      "needs_background": "light"
     },
     "output_type": "display_data"
    }
   ],
   "source": [
    "datasets_tot.groupby([\"years\", \"origin\"])[\"dataset_id\"].size().unstack().plot(kind=\"bar\", stacked=False)\n",
    "plt.xlabel(\"Years\")\n",
    "plt.ylabel(\"Number of datasets\")\n"
   ]
  },
  {
   "cell_type": "markdown",
   "id": "c4e5f0f5-d236-497e-8a1d-fa2216250e31",
   "metadata": {},
   "source": [
    "##### Number of datasets per years"
   ]
  },
  {
   "cell_type": "code",
   "execution_count": 44,
   "id": "a3f66e2c-f875-40de-b812-f5251c367d11",
   "metadata": {},
   "outputs": [
    {
     "data": {
      "text/plain": [
       "Text(0, 0.5, 'Number of files')"
      ]
     },
     "execution_count": 44,
     "metadata": {},
     "output_type": "execute_result"
    },
    {
     "data": {
      "image/png": "[encoded data removed]",
      "text/plain": [
       "<Figure size 432x288 with 1 Axes>"
      ]
     },
     "metadata": {
      "needs_background": "light"
     },
     "output_type": "display_data"
    }
   ],
   "source": [
    "tot.groupby([\"years\", \"origin\"]).size().unstack().plot(kind=\"bar\", stacked=False)\n",
    "plt.xlabel(\"Years\")\n",
    "plt.ylabel(\"Number of files\")"
   ]
  },
  {
   "cell_type": "code",
   "execution_count": null,
   "id": "79b61e12-c4a8-4d22-81c3-71d089fdbdcd",
   "metadata": {},
   "outputs": [],
   "source": []
  }
 ],
 "metadata": {
  "kernelspec": {
   "display_name": "Python 3 (ipykernel)",
   "language": "python",
   "name": "python3"
  },
  "language_info": {
   "codemirror_mode": {
    "name": "ipython",
    "version": 3
   },
   "file_extension": ".py",
   "mimetype": "text/x-python",
   "name": "python",
   "nbconvert_exporter": "python",
   "pygments_lexer": "ipython3",
   "version": "3.9.12"
  }
 },
 "nbformat": 4,
 "nbformat_minor": 5
}
