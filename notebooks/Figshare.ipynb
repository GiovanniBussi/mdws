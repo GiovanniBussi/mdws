{
 "cells": [
  {
   "cell_type": "markdown",
   "metadata": {},
   "source": [
    "# Imports"
   ]
  },
  {
   "cell_type": "code",
   "execution_count": 1,
   "metadata": {},
   "outputs": [
    {
     "name": "stdout",
     "output_type": "stream",
     "text": [
      "Import succeeded\n"
     ]
    }
   ],
   "source": [
    "# Standard library imports\n",
    "from datetime import datetime\n",
    "import json\n",
    "import logging as log\n",
    "import os\n",
    "import requests\n",
    "import sys\n",
    "\n",
    "# Third party imports\n",
    "import pandas as pd\n",
    "\n",
    "# Local application imports\n",
    "try:\n",
    "    sys.path.insert(1, os.path.join(os.getcwd(), '../'))\n",
    "    from scrap_figshare import read_input_file, search_figshare_with_query\n",
    "    from scrap_figshare import extract_records, request_figshare_dataset_with_id\n",
    "    from scrap_figshare import main_scrap_figshare\n",
    "    \n",
    "    from analyze import prep_analyze, read_df\n",
    "    from analyze import prepare_timeline_df, plot_timeline_dataset_files, plot_timeline_dataset_authors\n",
    "    from analyze import prepare_ext_count_df, plot_timeline_category, plot_timeline_engine, plot_timeline_size_engine, plot_extension_engine\n",
    "    from analyze import get_info_from_mdp, plot_temp_count\n",
    "    from analyze import get_info_from_gro, plot_sys_size_count\n",
    "    \n",
    "except (ModuleNotFoundError, ImportError) as e:\n",
    "    print(f\"{type(e)} fileure: {e}\")\n",
    "else:\n",
    "    print(\"Import succeeded\")\n"
   ]
  },
  {
   "cell_type": "markdown",
   "metadata": {},
   "source": [
    "# Functions"
   ]
  },
  {
   "cell_type": "code",
   "execution_count": 2,
   "metadata": {},
   "outputs": [],
   "source": [
    "class AttrDict(dict):\n",
    "    \"\"\"Argument parser.\n",
    "\n",
    "    This function parses a dictionary into a argparse-like dictionary.\n",
    "\n",
    "    Returns\n",
    "    -------\n",
    "    argparse dictionary\n",
    "    \"\"\"\n",
    "    def __init__(self, *args, **kwargs):\n",
    "        super(AttrDict, self).__init__(*args, **kwargs)\n",
    "        self.__dict__ = self"
   ]
  },
  {
   "cell_type": "markdown",
   "metadata": {},
   "source": [
    "# FigShare fetching and analysis"
   ]
  },
  {
   "cell_type": "markdown",
   "metadata": {},
   "source": [
    "## Fetch content"
   ]
  },
  {
   "cell_type": "code",
   "execution_count": 3,
   "metadata": {
    "scrolled": true
   },
   "outputs": [
    {
     "name": "stdout",
     "output_type": "stream",
     "text": [
      "Reading parameters from: /Users/kxp752/repos/mdws/notebooks/../query.yml\n",
      "Looking for filetype: tpr\n",
      "Number of datasets found: 23\n",
      "Number of files found: 958\n",
      "------------------------------\n",
      "Looking for filetype: gro\n",
      "Number of datasets found: 17\n",
      "Number of files found: 267\n",
      "------------------------------\n",
      "Looking for filetype: mdp\n",
      "Additional keywords for query: molecular dynamics, molecular dynamic, molecular-dynamics, molecular-dynamic, namd, md trajectory, md trajectories, md simulation, md simulations, amber, gromacs, charmm, plumed\n",
      "Number of datasets found: 7\n",
      "Number of files found: 28\n",
      "------------------------------\n",
      "Looking for filetype: itp\n",
      "Additional keywords for query: molecular dynamics, molecular dynamic, molecular-dynamics, molecular-dynamic, namd, md trajectory, md trajectories, md simulation, md simulations, amber, gromacs, charmm, plumed\n",
      "Number of datasets found: 4\n",
      "Number of files found: 8\n",
      "------------------------------\n",
      "Looking for filetype: ndx\n",
      "Number of datasets found: 0\n",
      "Number of files found: 0\n",
      "------------------------------\n",
      "Looking for filetype: top\n",
      "Additional keywords for query: molecular dynamics, molecular dynamic, molecular-dynamics, molecular-dynamic, namd, md trajectory, md trajectories, md simulation, md simulations, amber, gromacs, charmm, plumed\n",
      "Number of datasets found: 1\n",
      "Number of files found: 15\n",
      "------------------------------\n",
      "Looking for filetype: xtc\n",
      "Number of datasets found: 17\n",
      "Number of files found: 50\n",
      "------------------------------\n",
      "Looking for filetype: trr\n",
      "Number of datasets found: 1\n",
      "Number of files found: 2\n",
      "------------------------------\n",
      "Looking for filetype: edr\n",
      "Number of datasets found: 0\n",
      "Number of files found: 0\n",
      "------------------------------\n",
      "Looking for filetype: cpt\n",
      "Number of datasets found: 0\n",
      "Number of files found: 0\n",
      "------------------------------\n",
      "Looking for filetype: psf\n",
      "Additional keywords for query: molecular dynamics, molecular dynamic, molecular-dynamics, molecular-dynamic, namd, md trajectory, md trajectories, md simulation, md simulations, amber, gromacs, charmm, plumed\n",
      "Number of datasets found: 10\n",
      "Number of files found: 62\n",
      "------------------------------\n",
      "Looking for filetype: inp\n",
      "Additional keywords for query: molecular dynamics, molecular dynamic, molecular-dynamics, molecular-dynamic, namd, md trajectory, md trajectories, md simulation, md simulations, amber, gromacs, charmm, plumed\n",
      "Number of datasets found: 2\n",
      "Number of files found: 75\n",
      "------------------------------\n",
      "Looking for filetype: prm\n",
      "Additional keywords for query: molecular dynamics, molecular dynamic, molecular-dynamics, molecular-dynamic, namd, md trajectory, md trajectories, md simulation, md simulations, amber, gromacs, charmm, plumed\n",
      "Number of datasets found: 1\n",
      "Number of files found: 6\n",
      "------------------------------\n",
      "Looking for filetype: crd\n",
      "Number of datasets found: 0\n",
      "Number of files found: 0\n",
      "------------------------------\n",
      "Looking for filetype: dcd\n",
      "Additional keywords for query: molecular dynamics, molecular dynamic, molecular-dynamics, molecular-dynamic, namd, md trajectory, md trajectories, md simulation, md simulations, amber, gromacs, charmm, plumed\n",
      "Number of datasets found: 331\n",
      "Number of files found: 372\n",
      "------------------------------\n",
      "Looking for filetype: coor\n",
      "Additional keywords for query: molecular dynamics, molecular dynamic, molecular-dynamics, molecular-dynamic, namd, md trajectory, md trajectories, md simulation, md simulations, amber, gromacs, charmm, plumed\n",
      "Number of datasets found: 0\n",
      "Number of files found: 0\n",
      "------------------------------\n",
      "Looking for filetype: vel\n",
      "Additional keywords for query: molecular dynamics, molecular dynamic, molecular-dynamics, molecular-dynamic, namd, md trajectory, md trajectories, md simulation, md simulations, amber, gromacs, charmm, plumed\n",
      "Number of datasets found: 0\n",
      "Number of files found: 0\n",
      "------------------------------\n",
      "Looking for filetype: xsc\n",
      "Additional keywords for query: molecular dynamics, molecular dynamic, molecular-dynamics, molecular-dynamic, namd, md trajectory, md trajectories, md simulation, md simulations, amber, gromacs, charmm, plumed\n",
      "Number of datasets found: 0\n",
      "Number of files found: 0\n",
      "------------------------------\n",
      "Looking for filetype: prmtop\n",
      "Number of datasets found: 13\n",
      "Number of files found: 288\n",
      "------------------------------\n",
      "Looking for filetype: inpcrd\n",
      "Additional keywords for query: molecular dynamics, molecular dynamic, molecular-dynamics, molecular-dynamic, namd, md trajectory, md trajectories, md simulation, md simulations, amber, gromacs, charmm, plumed\n",
      "Number of datasets found: 0\n",
      "Number of files found: 0\n",
      "------------------------------\n",
      "Looking for filetype: mdcrd\n",
      "Additional keywords for query: molecular dynamics, molecular dynamic, molecular-dynamics, molecular-dynamic, namd, md trajectory, md trajectories, md simulation, md simulations, amber, gromacs, charmm, plumed\n",
      "Number of datasets found: 0\n",
      "Number of files found: 0\n",
      "------------------------------\n",
      "Looking for filetype: nc\n",
      "Additional keywords for query: molecular dynamics, molecular dynamic, molecular-dynamics, molecular-dynamic, namd, md trajectory, md trajectories, md simulation, md simulations, amber, gromacs, charmm, plumed\n",
      "Number of datasets found: 6\n",
      "Number of files found: 104\n",
      "------------------------------\n",
      "Looking for filetype: ncdf\n",
      "Additional keywords for query: molecular dynamics, molecular dynamic, molecular-dynamics, molecular-dynamic, namd, md trajectory, md trajectories, md simulation, md simulations, amber, gromacs, charmm, plumed\n",
      "Number of datasets found: 0\n",
      "Number of files found: 0\n",
      "------------------------------\n",
      "Looking for filetype: trj\n",
      "Additional keywords for query: molecular dynamics, molecular dynamic, molecular-dynamics, molecular-dynamic, namd, md trajectory, md trajectories, md simulation, md simulations, amber, gromacs, charmm, plumed\n",
      "Number of datasets found: 0\n",
      "Number of files found: 0\n",
      "------------------------------\n",
      "Looking for filetype: zip\n",
      "Additional keywords for query: molecular dynamics, molecular dynamic, molecular-dynamics, molecular-dynamic, namd, md trajectory, md trajectories, md simulation, md simulations, gromacs, plumed\n",
      "Number of datasets found: 1333\n",
      "Number of files found: 2009\n",
      "------------------------------\n",
      "Total number of datasets found: 1766\n",
      "Total number of files found: 4244\n",
      "CPU times: user 6min 33s, sys: 38.5 s, total: 7min 12s\n",
      "Wall time: 2h 16min 46s\n"
     ]
    },
    {
     "data": {
      "text/html": [
       "<div>\n",
       "<style scoped>\n",
       "    .dataframe tbody tr th:only-of-type {\n",
       "        vertical-align: middle;\n",
       "    }\n",
       "\n",
       "    .dataframe tbody tr th {\n",
       "        vertical-align: top;\n",
       "    }\n",
       "\n",
       "    .dataframe thead th {\n",
       "        text-align: right;\n",
       "    }\n",
       "</style>\n",
       "<table border=\"1\" class=\"dataframe\">\n",
       "  <thead>\n",
       "    <tr style=\"text-align: right;\">\n",
       "      <th></th>\n",
       "      <th>dataset_id</th>\n",
       "      <th>origin</th>\n",
       "      <th>doi</th>\n",
       "      <th>date_creation</th>\n",
       "      <th>date_last_modified</th>\n",
       "      <th>date_fetched</th>\n",
       "      <th>file_number</th>\n",
       "      <th>download_number</th>\n",
       "      <th>view_number</th>\n",
       "      <th>license</th>\n",
       "      <th>title</th>\n",
       "      <th>author</th>\n",
       "      <th>keywords</th>\n",
       "      <th>dataset_url</th>\n",
       "    </tr>\n",
       "  </thead>\n",
       "  <tbody>\n",
       "    <tr>\n",
       "      <th>0</th>\n",
       "      <td>7012004</td>\n",
       "      <td>figshare</td>\n",
       "      <td>10.6084/m9.figshare.7012004.v7</td>\n",
       "      <td>2018-08-30</td>\n",
       "      <td>2018-08-30</td>\n",
       "      <td>2022-01-04T15:38:56</td>\n",
       "      <td>33</td>\n",
       "      <td>208</td>\n",
       "      <td>184</td>\n",
       "      <td>CC BY 4.0</td>\n",
       "      <td>a-Synuclein MD simulations:homo-(A53T+S87N)</td>\n",
       "      <td>Hiroki Otaki</td>\n",
       "      <td>Molecular dynamics simulation</td>\n",
       "      <td>https://api.figshare.com/v2/articles/7012004</td>\n",
       "    </tr>\n",
       "    <tr>\n",
       "      <th>1</th>\n",
       "      <td>4595473</td>\n",
       "      <td>figshare</td>\n",
       "      <td>10.6084/m9.figshare.4595473.v3</td>\n",
       "      <td>2018-11-15</td>\n",
       "      <td>2018-11-15</td>\n",
       "      <td>2022-01-04T15:38:57</td>\n",
       "      <td>33</td>\n",
       "      <td>1789</td>\n",
       "      <td>738</td>\n",
       "      <td>CC BY 4.0</td>\n",
       "      <td>MD Simulations of Lipid A Phosphoethanol Trans...</td>\n",
       "      <td>Karmen Condic-Jurkic</td>\n",
       "      <td>lipid A phosphoethanolamine transferase ; Neis...</td>\n",
       "      <td>https://api.figshare.com/v2/articles/4595473</td>\n",
       "    </tr>\n",
       "    <tr>\n",
       "      <th>2</th>\n",
       "      <td>7010930</td>\n",
       "      <td>figshare</td>\n",
       "      <td>10.6084/m9.figshare.7010930.v1</td>\n",
       "      <td>2018-08-25</td>\n",
       "      <td>2018-08-25</td>\n",
       "      <td>2022-01-04T15:38:58</td>\n",
       "      <td>77</td>\n",
       "      <td>365</td>\n",
       "      <td>119</td>\n",
       "      <td>CC BY 4.0</td>\n",
       "      <td>a-Synuclein short MD simulations:A53T[A-F]</td>\n",
       "      <td>Hiroki Otaki</td>\n",
       "      <td>Molecular dynamics simulation</td>\n",
       "      <td>https://api.figshare.com/v2/articles/7010930</td>\n",
       "    </tr>\n",
       "    <tr>\n",
       "      <th>3</th>\n",
       "      <td>7011014</td>\n",
       "      <td>figshare</td>\n",
       "      <td>10.6084/m9.figshare.7011014.v8</td>\n",
       "      <td>2018-08-27</td>\n",
       "      <td>2018-08-27</td>\n",
       "      <td>2022-01-04T15:38:59</td>\n",
       "      <td>47</td>\n",
       "      <td>481</td>\n",
       "      <td>225</td>\n",
       "      <td>CC BY 4.0</td>\n",
       "      <td>a-Synuclein MD simulations:WT</td>\n",
       "      <td>Hiroki Otaki</td>\n",
       "      <td>Molecular dynamics simulation</td>\n",
       "      <td>https://api.figshare.com/v2/articles/7011014</td>\n",
       "    </tr>\n",
       "    <tr>\n",
       "      <th>4</th>\n",
       "      <td>8046437</td>\n",
       "      <td>figshare</td>\n",
       "      <td>10.6084/m9.figshare.8046437.v1</td>\n",
       "      <td>2019-04-26</td>\n",
       "      <td>2019-04-26</td>\n",
       "      <td>2022-01-04T15:39:00</td>\n",
       "      <td>2</td>\n",
       "      <td>154</td>\n",
       "      <td>137</td>\n",
       "      <td>CC BY 4.0</td>\n",
       "      <td>Short molecular dynamics of a peptide inside a...</td>\n",
       "      <td>davide cruz</td>\n",
       "      <td>MDAnalysis software package ; membrane bilayer...</td>\n",
       "      <td>https://api.figshare.com/v2/articles/8046437</td>\n",
       "    </tr>\n",
       "    <tr>\n",
       "      <th>...</th>\n",
       "      <td>...</td>\n",
       "      <td>...</td>\n",
       "      <td>...</td>\n",
       "      <td>...</td>\n",
       "      <td>...</td>\n",
       "      <td>...</td>\n",
       "      <td>...</td>\n",
       "      <td>...</td>\n",
       "      <td>...</td>\n",
       "      <td>...</td>\n",
       "      <td>...</td>\n",
       "      <td>...</td>\n",
       "      <td>...</td>\n",
       "      <td>...</td>\n",
       "    </tr>\n",
       "    <tr>\n",
       "      <th>1761</th>\n",
       "      <td>12713471</td>\n",
       "      <td>figshare</td>\n",
       "      <td>10.4121/uuid:b54162ae-1b09-450b-a258-535d78040b60</td>\n",
       "      <td>2013-06-30</td>\n",
       "      <td>2020-07-28</td>\n",
       "      <td>2022-01-04T17:55:34</td>\n",
       "      <td>1</td>\n",
       "      <td>34</td>\n",
       "      <td>189</td>\n",
       "      <td>4TU General Terms of Use</td>\n",
       "      <td>Experimental research on dynamic dredge overfl...</td>\n",
       "      <td>E.M.M. van Eekelen</td>\n",
       "      <td>dredging ; dynamic plume ; environmental impac...</td>\n",
       "      <td>https://api.figshare.com/v2/articles/12713471</td>\n",
       "    </tr>\n",
       "    <tr>\n",
       "      <th>1762</th>\n",
       "      <td>1403409</td>\n",
       "      <td>figshare</td>\n",
       "      <td>10.1371/journal.pone.0125040</td>\n",
       "      <td>2015-05-04</td>\n",
       "      <td>2016-10-31</td>\n",
       "      <td>2022-01-04T17:55:35</td>\n",
       "      <td>10</td>\n",
       "      <td>291</td>\n",
       "      <td>352</td>\n",
       "      <td>CC BY 4.0</td>\n",
       "      <td>Morphologic and Aerodynamic Considerations Reg...</td>\n",
       "      <td>Vincent Casseau</td>\n",
       "      <td>parachute ; permeability ; simulation ; flow r...</td>\n",
       "      <td>https://api.figshare.com/v2/articles/1403409</td>\n",
       "    </tr>\n",
       "    <tr>\n",
       "      <th>1763</th>\n",
       "      <td>12708386</td>\n",
       "      <td>figshare</td>\n",
       "      <td>10.4121/uuid:997cc9d8-2281-453e-b631-5f93cfebe00e</td>\n",
       "      <td>2019-07-30</td>\n",
       "      <td>2020-07-28</td>\n",
       "      <td>2022-01-04T17:55:36</td>\n",
       "      <td>1</td>\n",
       "      <td>95</td>\n",
       "      <td>362</td>\n",
       "      <td>CC0</td>\n",
       "      <td>Vapor Plumes Video at La Selva Biological Station</td>\n",
       "      <td>Cesar Dionisio Jimenez-Rodriguez</td>\n",
       "      <td>Vapor Plumes ; dissertation</td>\n",
       "      <td>https://api.figshare.com/v2/articles/12708386</td>\n",
       "    </tr>\n",
       "    <tr>\n",
       "      <th>1764</th>\n",
       "      <td>14001149</td>\n",
       "      <td>figshare</td>\n",
       "      <td>10.6084/m9.figshare.14001149.v2</td>\n",
       "      <td>2021-05-14</td>\n",
       "      <td>2021-05-14</td>\n",
       "      <td>2022-01-04T17:55:37</td>\n",
       "      <td>1</td>\n",
       "      <td>13</td>\n",
       "      <td>105</td>\n",
       "      <td>Apache 2.0</td>\n",
       "      <td>Global Survey of Electron Precipitation due to...</td>\n",
       "      <td>Qianli Ma</td>\n",
       "      <td>Hiss Waves ; Electron precipitation ; Van Alle...</td>\n",
       "      <td>https://api.figshare.com/v2/articles/14001149</td>\n",
       "    </tr>\n",
       "    <tr>\n",
       "      <th>1765</th>\n",
       "      <td>13574854</td>\n",
       "      <td>figshare</td>\n",
       "      <td>10.1021/acs.jpcc.0c09970.s002</td>\n",
       "      <td>2021-01-14</td>\n",
       "      <td>2021-01-14</td>\n",
       "      <td>2022-01-04T17:55:39</td>\n",
       "      <td>1</td>\n",
       "      <td>10</td>\n",
       "      <td>28</td>\n",
       "      <td>CC BY-NC 4.0</td>\n",
       "      <td>Limited Elemental Mixing in Nanoparticles Gene...</td>\n",
       "      <td>Cheng-Yu Shih</td>\n",
       "      <td>nanoparticle formation mechanisms ; nanoscale ...</td>\n",
       "      <td>https://api.figshare.com/v2/articles/13574854</td>\n",
       "    </tr>\n",
       "  </tbody>\n",
       "</table>\n",
       "<p>1766 rows × 14 columns</p>\n",
       "</div>"
      ],
      "text/plain": [
       "     dataset_id    origin                                                doi  \\\n",
       "0       7012004  figshare                     10.6084/m9.figshare.7012004.v7   \n",
       "1       4595473  figshare                     10.6084/m9.figshare.4595473.v3   \n",
       "2       7010930  figshare                     10.6084/m9.figshare.7010930.v1   \n",
       "3       7011014  figshare                     10.6084/m9.figshare.7011014.v8   \n",
       "4       8046437  figshare                     10.6084/m9.figshare.8046437.v1   \n",
       "...         ...       ...                                                ...   \n",
       "1761   12713471  figshare  10.4121/uuid:b54162ae-1b09-450b-a258-535d78040b60   \n",
       "1762    1403409  figshare                       10.1371/journal.pone.0125040   \n",
       "1763   12708386  figshare  10.4121/uuid:997cc9d8-2281-453e-b631-5f93cfebe00e   \n",
       "1764   14001149  figshare                    10.6084/m9.figshare.14001149.v2   \n",
       "1765   13574854  figshare                      10.1021/acs.jpcc.0c09970.s002   \n",
       "\n",
       "     date_creation date_last_modified         date_fetched  file_number  \\\n",
       "0       2018-08-30         2018-08-30  2022-01-04T15:38:56           33   \n",
       "1       2018-11-15         2018-11-15  2022-01-04T15:38:57           33   \n",
       "2       2018-08-25         2018-08-25  2022-01-04T15:38:58           77   \n",
       "3       2018-08-27         2018-08-27  2022-01-04T15:38:59           47   \n",
       "4       2019-04-26         2019-04-26  2022-01-04T15:39:00            2   \n",
       "...            ...                ...                  ...          ...   \n",
       "1761    2013-06-30         2020-07-28  2022-01-04T17:55:34            1   \n",
       "1762    2015-05-04         2016-10-31  2022-01-04T17:55:35           10   \n",
       "1763    2019-07-30         2020-07-28  2022-01-04T17:55:36            1   \n",
       "1764    2021-05-14         2021-05-14  2022-01-04T17:55:37            1   \n",
       "1765    2021-01-14         2021-01-14  2022-01-04T17:55:39            1   \n",
       "\n",
       "      download_number  view_number                   license  \\\n",
       "0                 208          184                 CC BY 4.0   \n",
       "1                1789          738                 CC BY 4.0   \n",
       "2                 365          119                 CC BY 4.0   \n",
       "3                 481          225                 CC BY 4.0   \n",
       "4                 154          137                 CC BY 4.0   \n",
       "...               ...          ...                       ...   \n",
       "1761               34          189  4TU General Terms of Use   \n",
       "1762              291          352                 CC BY 4.0   \n",
       "1763               95          362                       CC0   \n",
       "1764               13          105                Apache 2.0   \n",
       "1765               10           28              CC BY-NC 4.0   \n",
       "\n",
       "                                                  title  \\\n",
       "0           a-Synuclein MD simulations:homo-(A53T+S87N)   \n",
       "1     MD Simulations of Lipid A Phosphoethanol Trans...   \n",
       "2            a-Synuclein short MD simulations:A53T[A-F]   \n",
       "3                         a-Synuclein MD simulations:WT   \n",
       "4     Short molecular dynamics of a peptide inside a...   \n",
       "...                                                 ...   \n",
       "1761  Experimental research on dynamic dredge overfl...   \n",
       "1762  Morphologic and Aerodynamic Considerations Reg...   \n",
       "1763  Vapor Plumes Video at La Selva Biological Station   \n",
       "1764  Global Survey of Electron Precipitation due to...   \n",
       "1765  Limited Elemental Mixing in Nanoparticles Gene...   \n",
       "\n",
       "                                author  \\\n",
       "0                         Hiroki Otaki   \n",
       "1                 Karmen Condic-Jurkic   \n",
       "2                         Hiroki Otaki   \n",
       "3                         Hiroki Otaki   \n",
       "4                          davide cruz   \n",
       "...                                ...   \n",
       "1761                E.M.M. van Eekelen   \n",
       "1762                   Vincent Casseau   \n",
       "1763  Cesar Dionisio Jimenez-Rodriguez   \n",
       "1764                         Qianli Ma   \n",
       "1765                     Cheng-Yu Shih   \n",
       "\n",
       "                                               keywords  \\\n",
       "0                         Molecular dynamics simulation   \n",
       "1     lipid A phosphoethanolamine transferase ; Neis...   \n",
       "2                         Molecular dynamics simulation   \n",
       "3                         Molecular dynamics simulation   \n",
       "4     MDAnalysis software package ; membrane bilayer...   \n",
       "...                                                 ...   \n",
       "1761  dredging ; dynamic plume ; environmental impac...   \n",
       "1762  parachute ; permeability ; simulation ; flow r...   \n",
       "1763                        Vapor Plumes ; dissertation   \n",
       "1764  Hiss Waves ; Electron precipitation ; Van Alle...   \n",
       "1765  nanoparticle formation mechanisms ; nanoscale ...   \n",
       "\n",
       "                                        dataset_url  \n",
       "0      https://api.figshare.com/v2/articles/7012004  \n",
       "1      https://api.figshare.com/v2/articles/4595473  \n",
       "2      https://api.figshare.com/v2/articles/7010930  \n",
       "3      https://api.figshare.com/v2/articles/7011014  \n",
       "4      https://api.figshare.com/v2/articles/8046437  \n",
       "...                                             ...  \n",
       "1761  https://api.figshare.com/v2/articles/12713471  \n",
       "1762   https://api.figshare.com/v2/articles/1403409  \n",
       "1763  https://api.figshare.com/v2/articles/12708386  \n",
       "1764  https://api.figshare.com/v2/articles/14001149  \n",
       "1765  https://api.figshare.com/v2/articles/13574854  \n",
       "\n",
       "[1766 rows x 14 columns]"
      ]
     },
     "execution_count": 3,
     "metadata": {},
     "output_type": "execute_result"
    }
   ],
   "source": [
    "%%time\n",
    "# Make input parameter\n",
    "args = AttrDict()\n",
    "args.update({'input_file': os.path.join(os.getcwd(), '../query.yml')}) #query_dev.yml\n",
    "# Read parameter file\n",
    "datasets_df, files_df = main_scrap_figshare(args)\n",
    "datasets_df"
   ]
  },
  {
   "cell_type": "markdown",
   "metadata": {},
   "source": [
    "## Analysis & plots"
   ]
  },
  {
   "cell_type": "markdown",
   "metadata": {},
   "source": [
    "### Reading"
   ]
  },
  {
   "cell_type": "code",
   "execution_count": 4,
   "metadata": {},
   "outputs": [
    {
     "name": "stdout",
     "output_type": "stream",
     "text": [
      "Number of files: 4244\n",
      "Number of datasets: 1766\n",
      "Number of files after cleaning: 4244\n",
      "Number of datasets: 1766\n"
     ]
    }
   ],
   "source": [
    "# read dataframe from datasets and files\n",
    "dataset_tsv = \"figshare_datasets.tsv\"\n",
    "files_tsv = \"figshare_files.tsv\"\n",
    "args = AttrDict()\n",
    "args.update({'input_dataset_file': os.path.join(os.getcwd(), dataset_tsv), \n",
    "             'input_files_file': os.path.join(os.getcwd(), files_tsv),\n",
    "            })\n",
    "# Call extract main prep function\n",
    "datasets_df, files_df, all_df = prep_analyze(args)"
   ]
  },
  {
   "cell_type": "markdown",
   "metadata": {},
   "source": [
    "### Plotting dataset statistics (timeline and counts)"
   ]
  },
  {
   "cell_type": "code",
   "execution_count": 5,
   "metadata": {},
   "outputs": [
    {
     "data": {
      "image/png": "[encoded data removed]",
      "text/plain": [
       "<Figure size 720x432 with 2 Axes>"
      ]
     },
     "metadata": {
      "needs_background": "light"
     },
     "output_type": "display_data"
    },
    {
     "data": {
      "image/png": "[encoded data removed]",
      "text/plain": [
       "<Figure size 720x432 with 1 Axes>"
      ]
     },
     "metadata": {},
     "output_type": "display_data"
    }
   ],
   "source": [
    "# timeline plot\n",
    "timeline_ana_df = prepare_timeline_df(datasets_df)\n",
    "plot_timeline_dataset_files(timeline_ana_df)\n",
    "plot_timeline_dataset_authors(timeline_ana_df)\n",
    "\n"
   ]
  },
  {
   "cell_type": "code",
   "execution_count": 6,
   "metadata": {},
   "outputs": [
    {
     "data": {
      "image/png": "[encoded data removed]",
      "text/plain": [
       "<Figure size 720x432 with 1 Axes>"
      ]
     },
     "metadata": {},
     "output_type": "display_data"
    },
    {
     "data": {
      "image/png": "[encoded data removed]",
      "text/plain": [
       "<Figure size 720x432 with 1 Axes>"
      ]
     },
     "metadata": {},
     "output_type": "display_data"
    },
    {
     "data": {
      "image/png": "[encoded data removed]",
      "text/plain": [
       "<Figure size 720x432 with 1 Axes>"
      ]
     },
     "metadata": {},
     "output_type": "display_data"
    },
    {
     "data": {
      "image/png": "[encoded data removed]",
      "text/plain": [
       "<Figure size 720x432 with 1 Axes>"
      ]
     },
     "metadata": {},
     "output_type": "display_data"
    }
   ],
   "source": [
    "# plot file-dependent timeline plots\n",
    "count_article_df = prepare_ext_count_df(all_df)\n",
    "plot_timeline_category(count_article_df)\n",
    "plot_timeline_engine(count_article_df)\n",
    "plot_timeline_size_engine(count_article_df)\n",
    "plot_extension_engine(count_article_df)"
   ]
  },
  {
   "cell_type": "code",
   "execution_count": 11,
   "metadata": {},
   "outputs": [
    {
     "name": "stdout",
     "output_type": "stream",
     "text": [
      "Total file size: 0.8 TB, 4244 files\n",
      "Total file size (excl. zip): 0.6 TB, 2718 files\n"
     ]
    }
   ],
   "source": [
    "# filesize\n",
    "print(f\"Total file size: {files_df['file_size'].sum()/10**12:.1f} TB, {len(files_df)} files\")\n",
    "print(f\"Total file size (excl. zip): {files_df.loc[files_df['file_type']!='zip', 'file_size'].sum()/10**12:.1f} TB, {len(files_df.loc[files_df['file_type']!='zip'])} files\")"
   ]
  },
  {
   "cell_type": "markdown",
   "metadata": {},
   "source": [
    "### Plotting information grapped from file content (e.g. temperature from mdp & filesize from gro)"
   ]
  },
  {
   "cell_type": "code",
   "execution_count": 12,
   "metadata": {},
   "outputs": [
    {
     "name": "stdout",
     "output_type": "stream",
     "text": [
      "Number of mdp files: 149\n"
     ]
    },
    {
     "data": {
      "image/png": "[encoded data removed]",
      "text/plain": [
       "<Figure size 720x432 with 1 Axes>"
      ]
     },
     "metadata": {},
     "output_type": "display_data"
    },
    {
     "name": "stdout",
     "output_type": "stream",
     "text": [
      "CPU times: user 5.33 s, sys: 622 ms, total: 5.95 s\n",
      "Wall time: 1min 50s\n"
     ]
    }
   ],
   "source": [
    "%%time\n",
    "# get mdp information\n",
    "temp_df = get_info_from_mdp(all_df)\n",
    "# plot mdp information\n",
    "plot_temp_count(temp_df)\n"
   ]
  },
  {
   "cell_type": "code",
   "execution_count": null,
   "metadata": {},
   "outputs": [
    {
     "name": "stdout",
     "output_type": "stream",
     "text": [
      "Number of gro files: 82\n",
      "ERROR for dataset ID: 7795913, file name: comp1_oct.gro\n"
     ]
    }
   ],
   "source": [
    "%%time\n",
    "# get mdp information\n",
    "sys_size_df = get_info_from_gro(all_df)\n",
    "# plot information\n",
    "plot_sys_size_count(sys_size_df)\n"
   ]
  },
  {
   "cell_type": "code",
   "execution_count": null,
   "metadata": {},
   "outputs": [],
   "source": []
  }
 ],
 "metadata": {
  "kernelspec": {
   "display_name": "Python 3",
   "language": "python",
   "name": "python3"
  },
  "language_info": {
   "codemirror_mode": {
    "name": "ipython",
    "version": 3
   },
   "file_extension": ".py",
   "mimetype": "text/x-python",
   "name": "python",
   "nbconvert_exporter": "python",
   "pygments_lexer": "ipython3",
   "version": "3.8.5"
  },
  "toc-autonumbering": true
 },
 "nbformat": 4,
 "nbformat_minor": 4
}
